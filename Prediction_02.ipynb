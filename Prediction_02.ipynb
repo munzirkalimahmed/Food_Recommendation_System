{
  "cells": [
    {
      "cell_type": "markdown",
      "metadata": {
        "id": "view-in-github",
        "colab_type": "text"
      },
      "source": [
        "<a href=\"https://colab.research.google.com/github/munzirkalimahmed/Food_Recommendation_System_Using_Machine_Learning/blob/main/Prediction_02.ipynb\" target=\"_parent\"><img src=\"https://colab.research.google.com/assets/colab-badge.svg\" alt=\"Open In Colab\"/></a>"
      ]
    },
    {
      "cell_type": "code",
      "execution_count": null,
      "metadata": {
        "id": "_DT_GS9DA26q"
      },
      "outputs": [],
      "source": [
        "# pip install anvil-uplink"
      ]
    },
    {
      "cell_type": "code",
      "execution_count": null,
      "metadata": {
        "id": "NhZ6L4kJ_nMh"
      },
      "outputs": [],
      "source": [
        "# import anvil.server\n",
        "\n",
        "# anvil.server.connect(\"KBB2ZHGR7G6CC7DUXEY4RAQR-RH6S2ZQ3IGQM6I7C\")\n",
        "\n",
        "# @anvil.server.callable\n",
        "# def get_nutrient_values(calories, protein, fat):\n",
        "#   print(\"Hello from the uplink, %s!\" % calories)"
      ]
    },
    {
      "cell_type": "code",
      "execution_count": 1,
      "metadata": {
        "colab": {
          "base_uri": "https://localhost:8080/"
        },
        "id": "e3NN0OLWwjRv",
        "outputId": "6049fb13-f376-424e-e3b5-a627f36179b0"
      },
      "outputs": [
        {
          "output_type": "stream",
          "name": "stdout",
          "text": [
            "Mounted at /content/drive\n"
          ]
        }
      ],
      "source": [
        "from google.colab import drive\n",
        "drive.mount('/content/drive')"
      ]
    },
    {
      "cell_type": "code",
      "execution_count": 2,
      "metadata": {
        "id": "Bcl1DyEmwwBq"
      },
      "outputs": [],
      "source": [
        "import numpy as np\n",
        "import pandas as pd\n",
        "import math\n",
        "import seaborn as sns\n",
        "from sklearn.model_selection import KFold\n",
        "from sklearn.model_selection import cross_val_score"
      ]
    },
    {
      "cell_type": "code",
      "execution_count": 4,
      "metadata": {
        "id": "fASBN7ytwyc4"
      },
      "outputs": [],
      "source": [
        "df =pd.read_csv(\"/content/drive/MyDrive/Dataset/FoodData_modified (1).csv\")"
      ]
    },
    {
      "cell_type": "code",
      "execution_count": 5,
      "metadata": {
        "colab": {
          "base_uri": "https://localhost:8080/",
          "height": 964
        },
        "id": "ftvTaxg6w665",
        "outputId": "797f09b3-adc0-4bce-a63b-45a4c982a842"
      },
      "outputs": [
        {
          "output_type": "execute_result",
          "data": {
            "text/plain": [
              "                                                  Name           Group  \\\n",
              "0                                Bread, wheat, toasted  baked-products   \n",
              "1    Biscuits, plain or buttermilk, prepared from r...  baked-products   \n",
              "2         Bread, french or vienna (includes sourdough)  baked-products   \n",
              "3    Cake, chocolate, prepared from recipe without ...  baked-products   \n",
              "4               Cake, fruitcake, commercially prepared  baked-products   \n",
              "..                                                 ...             ...   \n",
              "621                              Cabbage, napa, cooked      vegetables   \n",
              "622                                  Grape leaves, raw      vegetables   \n",
              "623                              Peppers, ancho, dried      vegetables   \n",
              "624                                       Epazote, raw      vegetables   \n",
              "625                           Fungi, Cloud ears, dried      vegetables   \n",
              "\n",
              "     Glycemic index Insulin index                         Serving Size  \\\n",
              "0              60.0           100                   1 oz (28.35 grams)   \n",
              "1              44.0            48                   1 oz (28.35 grams)   \n",
              "2              70.0           NaN                   1 oz (28.35 grams)   \n",
              "3              41.0            82  1 piece (1/12 of 9\" dia) (95 grams)   \n",
              "4              53.0           NaN                   1 piece (43 grams)   \n",
              "..              ...           ...                                  ...   \n",
              "621            32.0           NaN                    1 cup (109 grams)   \n",
              "622             NaN           NaN                     1 leaf (3 grams)   \n",
              "623             NaN           NaN                  1 pepper (17 grams)   \n",
              "624             NaN           NaN                   1 tbsp (0.8 grams)   \n",
              "625            45.0           NaN                  1 piece (4.5 grams)   \n",
              "\n",
              "    Acidity (Based on PRAL) GI Category  Calories (kcal)  Net Carbs ( grams)  \\\n",
              "0              4.9 (acidic)      medium              313               51.07   \n",
              "1              3.4 (acidic)         low              353               43.10   \n",
              "2              5.2 (acidic)      medium              272               49.68   \n",
              "3                2 (acidic)         low              371               51.80   \n",
              "4           -0.7 (alkaline)         low              324               57.90   \n",
              "..                      ...         ...              ...                 ...   \n",
              "621         -1.2 (alkaline)         low               12                2.23   \n",
              "622         -6.8 (alkaline)         NaN               93                6.31   \n",
              "623        -41.1 (alkaline)         NaN              281               29.82   \n",
              "624        -16.7 (alkaline)         NaN               32                3.64   \n",
              "625         -8.7 (alkaline)         low              284                2.91   \n",
              "\n",
              "     Protein (g)  ...  Phenylalanine (mg)  Valine (mg)  Histidine (mg)  \\\n",
              "0          12.96  ...                0.32         0.31            0.15   \n",
              "1           7.00  ...                0.35         0.31            0.16   \n",
              "2          10.75  ...                 NaN          NaN             NaN   \n",
              "3           5.30  ...                0.27         0.28            0.12   \n",
              "4           2.90  ...                0.14         0.14            0.07   \n",
              "..           ...  ...                 ...          ...             ...   \n",
              "621         1.10  ...                 NaN          NaN             NaN   \n",
              "622         5.60  ...                 NaN          NaN             NaN   \n",
              "623        11.86  ...                0.36         0.49            0.23   \n",
              "624         0.33  ...                 NaN          NaN             NaN   \n",
              "625         9.25  ...                 NaN          NaN             NaN   \n",
              "\n",
              "     Cholesterol (mg)  Saturated Fat (g)  Monounsaturated Fat (g)  \\\n",
              "0                 0.0               0.99                     1.02   \n",
              "1                 3.0               4.32                     6.93   \n",
              "2                 0.0               0.53                     0.36   \n",
              "3                58.0               5.43                     6.04   \n",
              "4                 5.0               1.05                     4.20   \n",
              "..                ...                ...                      ...   \n",
              "621               0.0                NaN                      NaN   \n",
              "622               0.0               0.34                     0.08   \n",
              "623               0.0               0.82                     0.49   \n",
              "624               0.0                NaN                      NaN   \n",
              "625               0.0                NaN                      NaN   \n",
              "\n",
              "     Polyunsaturated fat (g)  Starch (g)  Fructose (g)  Trans Fat (g)  \n",
              "0                       1.72         NaN           NaN            NaN  \n",
              "1                       4.16         NaN           NaN            NaN  \n",
              "2                       0.86       44.23          0.51           0.01  \n",
              "3                       2.76         NaN           NaN            NaN  \n",
              "4                       3.32         NaN           NaN            NaN  \n",
              "..                       ...         ...           ...            ...  \n",
              "621                      NaN         NaN           NaN           0.00  \n",
              "622                     1.07         NaN           NaN           0.00  \n",
              "623                     4.51         NaN           NaN           0.00  \n",
              "624                      NaN         NaN           NaN           0.00  \n",
              "625                      NaN         NaN           NaN           0.00  \n",
              "\n",
              "[626 rows x 51 columns]"
            ],
            "text/html": [
              "\n",
              "  <div id=\"df-c1501bd7-0981-4f53-bb69-3353896c41a4\" class=\"colab-df-container\">\n",
              "    <div>\n",
              "<style scoped>\n",
              "    .dataframe tbody tr th:only-of-type {\n",
              "        vertical-align: middle;\n",
              "    }\n",
              "\n",
              "    .dataframe tbody tr th {\n",
              "        vertical-align: top;\n",
              "    }\n",
              "\n",
              "    .dataframe thead th {\n",
              "        text-align: right;\n",
              "    }\n",
              "</style>\n",
              "<table border=\"1\" class=\"dataframe\">\n",
              "  <thead>\n",
              "    <tr style=\"text-align: right;\">\n",
              "      <th></th>\n",
              "      <th>Name</th>\n",
              "      <th>Group</th>\n",
              "      <th>Glycemic index</th>\n",
              "      <th>Insulin index</th>\n",
              "      <th>Serving Size</th>\n",
              "      <th>Acidity (Based on PRAL)</th>\n",
              "      <th>GI Category</th>\n",
              "      <th>Calories (kcal)</th>\n",
              "      <th>Net Carbs ( grams)</th>\n",
              "      <th>Protein (g)</th>\n",
              "      <th>...</th>\n",
              "      <th>Phenylalanine (mg)</th>\n",
              "      <th>Valine (mg)</th>\n",
              "      <th>Histidine (mg)</th>\n",
              "      <th>Cholesterol (mg)</th>\n",
              "      <th>Saturated Fat (g)</th>\n",
              "      <th>Monounsaturated Fat (g)</th>\n",
              "      <th>Polyunsaturated fat (g)</th>\n",
              "      <th>Starch (g)</th>\n",
              "      <th>Fructose (g)</th>\n",
              "      <th>Trans Fat (g)</th>\n",
              "    </tr>\n",
              "  </thead>\n",
              "  <tbody>\n",
              "    <tr>\n",
              "      <th>0</th>\n",
              "      <td>Bread, wheat, toasted</td>\n",
              "      <td>baked-products</td>\n",
              "      <td>60.0</td>\n",
              "      <td>100</td>\n",
              "      <td>1 oz (28.35 grams)</td>\n",
              "      <td>4.9 (acidic)</td>\n",
              "      <td>medium</td>\n",
              "      <td>313</td>\n",
              "      <td>51.07</td>\n",
              "      <td>12.96</td>\n",
              "      <td>...</td>\n",
              "      <td>0.32</td>\n",
              "      <td>0.31</td>\n",
              "      <td>0.15</td>\n",
              "      <td>0.0</td>\n",
              "      <td>0.99</td>\n",
              "      <td>1.02</td>\n",
              "      <td>1.72</td>\n",
              "      <td>NaN</td>\n",
              "      <td>NaN</td>\n",
              "      <td>NaN</td>\n",
              "    </tr>\n",
              "    <tr>\n",
              "      <th>1</th>\n",
              "      <td>Biscuits, plain or buttermilk, prepared from r...</td>\n",
              "      <td>baked-products</td>\n",
              "      <td>44.0</td>\n",
              "      <td>48</td>\n",
              "      <td>1 oz (28.35 grams)</td>\n",
              "      <td>3.4 (acidic)</td>\n",
              "      <td>low</td>\n",
              "      <td>353</td>\n",
              "      <td>43.10</td>\n",
              "      <td>7.00</td>\n",
              "      <td>...</td>\n",
              "      <td>0.35</td>\n",
              "      <td>0.31</td>\n",
              "      <td>0.16</td>\n",
              "      <td>3.0</td>\n",
              "      <td>4.32</td>\n",
              "      <td>6.93</td>\n",
              "      <td>4.16</td>\n",
              "      <td>NaN</td>\n",
              "      <td>NaN</td>\n",
              "      <td>NaN</td>\n",
              "    </tr>\n",
              "    <tr>\n",
              "      <th>2</th>\n",
              "      <td>Bread, french or vienna (includes sourdough)</td>\n",
              "      <td>baked-products</td>\n",
              "      <td>70.0</td>\n",
              "      <td>NaN</td>\n",
              "      <td>1 oz (28.35 grams)</td>\n",
              "      <td>5.2 (acidic)</td>\n",
              "      <td>medium</td>\n",
              "      <td>272</td>\n",
              "      <td>49.68</td>\n",
              "      <td>10.75</td>\n",
              "      <td>...</td>\n",
              "      <td>NaN</td>\n",
              "      <td>NaN</td>\n",
              "      <td>NaN</td>\n",
              "      <td>0.0</td>\n",
              "      <td>0.53</td>\n",
              "      <td>0.36</td>\n",
              "      <td>0.86</td>\n",
              "      <td>44.23</td>\n",
              "      <td>0.51</td>\n",
              "      <td>0.01</td>\n",
              "    </tr>\n",
              "    <tr>\n",
              "      <th>3</th>\n",
              "      <td>Cake, chocolate, prepared from recipe without ...</td>\n",
              "      <td>baked-products</td>\n",
              "      <td>41.0</td>\n",
              "      <td>82</td>\n",
              "      <td>1 piece (1/12 of 9\" dia) (95 grams)</td>\n",
              "      <td>2 (acidic)</td>\n",
              "      <td>low</td>\n",
              "      <td>371</td>\n",
              "      <td>51.80</td>\n",
              "      <td>5.30</td>\n",
              "      <td>...</td>\n",
              "      <td>0.27</td>\n",
              "      <td>0.28</td>\n",
              "      <td>0.12</td>\n",
              "      <td>58.0</td>\n",
              "      <td>5.43</td>\n",
              "      <td>6.04</td>\n",
              "      <td>2.76</td>\n",
              "      <td>NaN</td>\n",
              "      <td>NaN</td>\n",
              "      <td>NaN</td>\n",
              "    </tr>\n",
              "    <tr>\n",
              "      <th>4</th>\n",
              "      <td>Cake, fruitcake, commercially prepared</td>\n",
              "      <td>baked-products</td>\n",
              "      <td>53.0</td>\n",
              "      <td>NaN</td>\n",
              "      <td>1 piece (43 grams)</td>\n",
              "      <td>-0.7 (alkaline)</td>\n",
              "      <td>low</td>\n",
              "      <td>324</td>\n",
              "      <td>57.90</td>\n",
              "      <td>2.90</td>\n",
              "      <td>...</td>\n",
              "      <td>0.14</td>\n",
              "      <td>0.14</td>\n",
              "      <td>0.07</td>\n",
              "      <td>5.0</td>\n",
              "      <td>1.05</td>\n",
              "      <td>4.20</td>\n",
              "      <td>3.32</td>\n",
              "      <td>NaN</td>\n",
              "      <td>NaN</td>\n",
              "      <td>NaN</td>\n",
              "    </tr>\n",
              "    <tr>\n",
              "      <th>...</th>\n",
              "      <td>...</td>\n",
              "      <td>...</td>\n",
              "      <td>...</td>\n",
              "      <td>...</td>\n",
              "      <td>...</td>\n",
              "      <td>...</td>\n",
              "      <td>...</td>\n",
              "      <td>...</td>\n",
              "      <td>...</td>\n",
              "      <td>...</td>\n",
              "      <td>...</td>\n",
              "      <td>...</td>\n",
              "      <td>...</td>\n",
              "      <td>...</td>\n",
              "      <td>...</td>\n",
              "      <td>...</td>\n",
              "      <td>...</td>\n",
              "      <td>...</td>\n",
              "      <td>...</td>\n",
              "      <td>...</td>\n",
              "      <td>...</td>\n",
              "    </tr>\n",
              "    <tr>\n",
              "      <th>621</th>\n",
              "      <td>Cabbage, napa, cooked</td>\n",
              "      <td>vegetables</td>\n",
              "      <td>32.0</td>\n",
              "      <td>NaN</td>\n",
              "      <td>1 cup (109 grams)</td>\n",
              "      <td>-1.2 (alkaline)</td>\n",
              "      <td>low</td>\n",
              "      <td>12</td>\n",
              "      <td>2.23</td>\n",
              "      <td>1.10</td>\n",
              "      <td>...</td>\n",
              "      <td>NaN</td>\n",
              "      <td>NaN</td>\n",
              "      <td>NaN</td>\n",
              "      <td>0.0</td>\n",
              "      <td>NaN</td>\n",
              "      <td>NaN</td>\n",
              "      <td>NaN</td>\n",
              "      <td>NaN</td>\n",
              "      <td>NaN</td>\n",
              "      <td>0.00</td>\n",
              "    </tr>\n",
              "    <tr>\n",
              "      <th>622</th>\n",
              "      <td>Grape leaves, raw</td>\n",
              "      <td>vegetables</td>\n",
              "      <td>NaN</td>\n",
              "      <td>NaN</td>\n",
              "      <td>1 leaf (3 grams)</td>\n",
              "      <td>-6.8 (alkaline)</td>\n",
              "      <td>NaN</td>\n",
              "      <td>93</td>\n",
              "      <td>6.31</td>\n",
              "      <td>5.60</td>\n",
              "      <td>...</td>\n",
              "      <td>NaN</td>\n",
              "      <td>NaN</td>\n",
              "      <td>NaN</td>\n",
              "      <td>0.0</td>\n",
              "      <td>0.34</td>\n",
              "      <td>0.08</td>\n",
              "      <td>1.07</td>\n",
              "      <td>NaN</td>\n",
              "      <td>NaN</td>\n",
              "      <td>0.00</td>\n",
              "    </tr>\n",
              "    <tr>\n",
              "      <th>623</th>\n",
              "      <td>Peppers, ancho, dried</td>\n",
              "      <td>vegetables</td>\n",
              "      <td>NaN</td>\n",
              "      <td>NaN</td>\n",
              "      <td>1 pepper (17 grams)</td>\n",
              "      <td>-41.1 (alkaline)</td>\n",
              "      <td>NaN</td>\n",
              "      <td>281</td>\n",
              "      <td>29.82</td>\n",
              "      <td>11.86</td>\n",
              "      <td>...</td>\n",
              "      <td>0.36</td>\n",
              "      <td>0.49</td>\n",
              "      <td>0.23</td>\n",
              "      <td>0.0</td>\n",
              "      <td>0.82</td>\n",
              "      <td>0.49</td>\n",
              "      <td>4.51</td>\n",
              "      <td>NaN</td>\n",
              "      <td>NaN</td>\n",
              "      <td>0.00</td>\n",
              "    </tr>\n",
              "    <tr>\n",
              "      <th>624</th>\n",
              "      <td>Epazote, raw</td>\n",
              "      <td>vegetables</td>\n",
              "      <td>NaN</td>\n",
              "      <td>NaN</td>\n",
              "      <td>1 tbsp (0.8 grams)</td>\n",
              "      <td>-16.7 (alkaline)</td>\n",
              "      <td>NaN</td>\n",
              "      <td>32</td>\n",
              "      <td>3.64</td>\n",
              "      <td>0.33</td>\n",
              "      <td>...</td>\n",
              "      <td>NaN</td>\n",
              "      <td>NaN</td>\n",
              "      <td>NaN</td>\n",
              "      <td>0.0</td>\n",
              "      <td>NaN</td>\n",
              "      <td>NaN</td>\n",
              "      <td>NaN</td>\n",
              "      <td>NaN</td>\n",
              "      <td>NaN</td>\n",
              "      <td>0.00</td>\n",
              "    </tr>\n",
              "    <tr>\n",
              "      <th>625</th>\n",
              "      <td>Fungi, Cloud ears, dried</td>\n",
              "      <td>vegetables</td>\n",
              "      <td>45.0</td>\n",
              "      <td>NaN</td>\n",
              "      <td>1 piece (4.5 grams)</td>\n",
              "      <td>-8.7 (alkaline)</td>\n",
              "      <td>low</td>\n",
              "      <td>284</td>\n",
              "      <td>2.91</td>\n",
              "      <td>9.25</td>\n",
              "      <td>...</td>\n",
              "      <td>NaN</td>\n",
              "      <td>NaN</td>\n",
              "      <td>NaN</td>\n",
              "      <td>0.0</td>\n",
              "      <td>NaN</td>\n",
              "      <td>NaN</td>\n",
              "      <td>NaN</td>\n",
              "      <td>NaN</td>\n",
              "      <td>NaN</td>\n",
              "      <td>0.00</td>\n",
              "    </tr>\n",
              "  </tbody>\n",
              "</table>\n",
              "<p>626 rows × 51 columns</p>\n",
              "</div>\n",
              "    <div class=\"colab-df-buttons\">\n",
              "\n",
              "  <div class=\"colab-df-container\">\n",
              "    <button class=\"colab-df-convert\" onclick=\"convertToInteractive('df-c1501bd7-0981-4f53-bb69-3353896c41a4')\"\n",
              "            title=\"Convert this dataframe to an interactive table.\"\n",
              "            style=\"display:none;\">\n",
              "\n",
              "  <svg xmlns=\"http://www.w3.org/2000/svg\" height=\"24px\" viewBox=\"0 -960 960 960\">\n",
              "    <path d=\"M120-120v-720h720v720H120Zm60-500h600v-160H180v160Zm220 220h160v-160H400v160Zm0 220h160v-160H400v160ZM180-400h160v-160H180v160Zm440 0h160v-160H620v160ZM180-180h160v-160H180v160Zm440 0h160v-160H620v160Z\"/>\n",
              "  </svg>\n",
              "    </button>\n",
              "\n",
              "  <style>\n",
              "    .colab-df-container {\n",
              "      display:flex;\n",
              "      gap: 12px;\n",
              "    }\n",
              "\n",
              "    .colab-df-convert {\n",
              "      background-color: #E8F0FE;\n",
              "      border: none;\n",
              "      border-radius: 50%;\n",
              "      cursor: pointer;\n",
              "      display: none;\n",
              "      fill: #1967D2;\n",
              "      height: 32px;\n",
              "      padding: 0 0 0 0;\n",
              "      width: 32px;\n",
              "    }\n",
              "\n",
              "    .colab-df-convert:hover {\n",
              "      background-color: #E2EBFA;\n",
              "      box-shadow: 0px 1px 2px rgba(60, 64, 67, 0.3), 0px 1px 3px 1px rgba(60, 64, 67, 0.15);\n",
              "      fill: #174EA6;\n",
              "    }\n",
              "\n",
              "    .colab-df-buttons div {\n",
              "      margin-bottom: 4px;\n",
              "    }\n",
              "\n",
              "    [theme=dark] .colab-df-convert {\n",
              "      background-color: #3B4455;\n",
              "      fill: #D2E3FC;\n",
              "    }\n",
              "\n",
              "    [theme=dark] .colab-df-convert:hover {\n",
              "      background-color: #434B5C;\n",
              "      box-shadow: 0px 1px 3px 1px rgba(0, 0, 0, 0.15);\n",
              "      filter: drop-shadow(0px 1px 2px rgba(0, 0, 0, 0.3));\n",
              "      fill: #FFFFFF;\n",
              "    }\n",
              "  </style>\n",
              "\n",
              "    <script>\n",
              "      const buttonEl =\n",
              "        document.querySelector('#df-c1501bd7-0981-4f53-bb69-3353896c41a4 button.colab-df-convert');\n",
              "      buttonEl.style.display =\n",
              "        google.colab.kernel.accessAllowed ? 'block' : 'none';\n",
              "\n",
              "      async function convertToInteractive(key) {\n",
              "        const element = document.querySelector('#df-c1501bd7-0981-4f53-bb69-3353896c41a4');\n",
              "        const dataTable =\n",
              "          await google.colab.kernel.invokeFunction('convertToInteractive',\n",
              "                                                    [key], {});\n",
              "        if (!dataTable) return;\n",
              "\n",
              "        const docLinkHtml = 'Like what you see? Visit the ' +\n",
              "          '<a target=\"_blank\" href=https://colab.research.google.com/notebooks/data_table.ipynb>data table notebook</a>'\n",
              "          + ' to learn more about interactive tables.';\n",
              "        element.innerHTML = '';\n",
              "        dataTable['output_type'] = 'display_data';\n",
              "        await google.colab.output.renderOutput(dataTable, element);\n",
              "        const docLink = document.createElement('div');\n",
              "        docLink.innerHTML = docLinkHtml;\n",
              "        element.appendChild(docLink);\n",
              "      }\n",
              "    </script>\n",
              "  </div>\n",
              "\n",
              "\n",
              "<div id=\"df-cfc3bf18-797d-4553-a747-e64ad3f16cfb\">\n",
              "  <button class=\"colab-df-quickchart\" onclick=\"quickchart('df-cfc3bf18-797d-4553-a747-e64ad3f16cfb')\"\n",
              "            title=\"Suggest charts\"\n",
              "            style=\"display:none;\">\n",
              "\n",
              "<svg xmlns=\"http://www.w3.org/2000/svg\" height=\"24px\"viewBox=\"0 0 24 24\"\n",
              "     width=\"24px\">\n",
              "    <g>\n",
              "        <path d=\"M19 3H5c-1.1 0-2 .9-2 2v14c0 1.1.9 2 2 2h14c1.1 0 2-.9 2-2V5c0-1.1-.9-2-2-2zM9 17H7v-7h2v7zm4 0h-2V7h2v10zm4 0h-2v-4h2v4z\"/>\n",
              "    </g>\n",
              "</svg>\n",
              "  </button>\n",
              "\n",
              "<style>\n",
              "  .colab-df-quickchart {\n",
              "      --bg-color: #E8F0FE;\n",
              "      --fill-color: #1967D2;\n",
              "      --hover-bg-color: #E2EBFA;\n",
              "      --hover-fill-color: #174EA6;\n",
              "      --disabled-fill-color: #AAA;\n",
              "      --disabled-bg-color: #DDD;\n",
              "  }\n",
              "\n",
              "  [theme=dark] .colab-df-quickchart {\n",
              "      --bg-color: #3B4455;\n",
              "      --fill-color: #D2E3FC;\n",
              "      --hover-bg-color: #434B5C;\n",
              "      --hover-fill-color: #FFFFFF;\n",
              "      --disabled-bg-color: #3B4455;\n",
              "      --disabled-fill-color: #666;\n",
              "  }\n",
              "\n",
              "  .colab-df-quickchart {\n",
              "    background-color: var(--bg-color);\n",
              "    border: none;\n",
              "    border-radius: 50%;\n",
              "    cursor: pointer;\n",
              "    display: none;\n",
              "    fill: var(--fill-color);\n",
              "    height: 32px;\n",
              "    padding: 0;\n",
              "    width: 32px;\n",
              "  }\n",
              "\n",
              "  .colab-df-quickchart:hover {\n",
              "    background-color: var(--hover-bg-color);\n",
              "    box-shadow: 0 1px 2px rgba(60, 64, 67, 0.3), 0 1px 3px 1px rgba(60, 64, 67, 0.15);\n",
              "    fill: var(--button-hover-fill-color);\n",
              "  }\n",
              "\n",
              "  .colab-df-quickchart-complete:disabled,\n",
              "  .colab-df-quickchart-complete:disabled:hover {\n",
              "    background-color: var(--disabled-bg-color);\n",
              "    fill: var(--disabled-fill-color);\n",
              "    box-shadow: none;\n",
              "  }\n",
              "\n",
              "  .colab-df-spinner {\n",
              "    border: 2px solid var(--fill-color);\n",
              "    border-color: transparent;\n",
              "    border-bottom-color: var(--fill-color);\n",
              "    animation:\n",
              "      spin 1s steps(1) infinite;\n",
              "  }\n",
              "\n",
              "  @keyframes spin {\n",
              "    0% {\n",
              "      border-color: transparent;\n",
              "      border-bottom-color: var(--fill-color);\n",
              "      border-left-color: var(--fill-color);\n",
              "    }\n",
              "    20% {\n",
              "      border-color: transparent;\n",
              "      border-left-color: var(--fill-color);\n",
              "      border-top-color: var(--fill-color);\n",
              "    }\n",
              "    30% {\n",
              "      border-color: transparent;\n",
              "      border-left-color: var(--fill-color);\n",
              "      border-top-color: var(--fill-color);\n",
              "      border-right-color: var(--fill-color);\n",
              "    }\n",
              "    40% {\n",
              "      border-color: transparent;\n",
              "      border-right-color: var(--fill-color);\n",
              "      border-top-color: var(--fill-color);\n",
              "    }\n",
              "    60% {\n",
              "      border-color: transparent;\n",
              "      border-right-color: var(--fill-color);\n",
              "    }\n",
              "    80% {\n",
              "      border-color: transparent;\n",
              "      border-right-color: var(--fill-color);\n",
              "      border-bottom-color: var(--fill-color);\n",
              "    }\n",
              "    90% {\n",
              "      border-color: transparent;\n",
              "      border-bottom-color: var(--fill-color);\n",
              "    }\n",
              "  }\n",
              "</style>\n",
              "\n",
              "  <script>\n",
              "    async function quickchart(key) {\n",
              "      const quickchartButtonEl =\n",
              "        document.querySelector('#' + key + ' button');\n",
              "      quickchartButtonEl.disabled = true;  // To prevent multiple clicks.\n",
              "      quickchartButtonEl.classList.add('colab-df-spinner');\n",
              "      try {\n",
              "        const charts = await google.colab.kernel.invokeFunction(\n",
              "            'suggestCharts', [key], {});\n",
              "      } catch (error) {\n",
              "        console.error('Error during call to suggestCharts:', error);\n",
              "      }\n",
              "      quickchartButtonEl.classList.remove('colab-df-spinner');\n",
              "      quickchartButtonEl.classList.add('colab-df-quickchart-complete');\n",
              "    }\n",
              "    (() => {\n",
              "      let quickchartButtonEl =\n",
              "        document.querySelector('#df-cfc3bf18-797d-4553-a747-e64ad3f16cfb button');\n",
              "      quickchartButtonEl.style.display =\n",
              "        google.colab.kernel.accessAllowed ? 'block' : 'none';\n",
              "    })();\n",
              "  </script>\n",
              "</div>\n",
              "    </div>\n",
              "  </div>\n"
            ],
            "application/vnd.google.colaboratory.intrinsic+json": {
              "type": "dataframe",
              "variable_name": "df"
            }
          },
          "metadata": {},
          "execution_count": 5
        }
      ],
      "source": [
        "df"
      ]
    },
    {
      "cell_type": "code",
      "execution_count": 6,
      "metadata": {
        "colab": {
          "base_uri": "https://localhost:8080/",
          "height": 367
        },
        "id": "1rKICKY6w8kc",
        "outputId": "507def9e-bb75-47b9-ded5-82c2ca0efefd"
      },
      "outputs": [
        {
          "output_type": "execute_result",
          "data": {
            "text/plain": [
              "       Glycemic index  Calories (kcal)  Net Carbs ( grams)  Protein (g)  \\\n",
              "count      550.000000       626.000000          626.000000   626.000000   \n",
              "mean        35.363636       216.998403           19.527412     8.220064   \n",
              "std         25.224070       188.224764           23.340832     9.186056   \n",
              "min          0.000000         0.000000            0.000000     0.000000   \n",
              "25%         15.000000        60.250000            2.532500     1.202500   \n",
              "50%         33.000000       165.500000            9.360000     4.145000   \n",
              "75%         54.000000       327.000000           28.497500    13.370000   \n",
              "max        104.000000       902.000000           99.980000    75.160000   \n",
              "\n",
              "         Fats (g)   Carbs (g)  Net carbs (g)   Sugar (g)   Fiber (g)  \\\n",
              "count  626.000000  626.000000     626.000000  485.000000  581.000000   \n",
              "mean    10.756198   22.770831      19.541757    9.053361    3.479174   \n",
              "std     18.993655   25.012394      23.333177   16.763168    7.061645   \n",
              "min      0.000000    0.000000       0.000000    0.000000    0.000000   \n",
              "25%      0.300000    3.592500       2.532500    0.420000    0.000000   \n",
              "50%      2.005000   13.050000       9.375000    2.500000    1.500000   \n",
              "75%     13.887500   33.457500      28.497500    8.550000    3.300000   \n",
              "max    100.000000   99.980000      99.980000   99.800000   70.100000   \n",
              "\n",
              "       Calcium (mg)  ...  Phenylalanine (mg)  Valine (mg)  Histidine (mg)  \\\n",
              "count    621.000000  ...          427.000000   428.000000      426.000000   \n",
              "mean     107.190016  ...            0.457611     0.521425        0.994038   \n",
              "std      308.883300  ...            0.442380     0.511791       10.456163   \n",
              "min        0.000000  ...            0.000000     0.000000        0.000000   \n",
              "25%       12.000000  ...            0.080000     0.090000        0.040000   \n",
              "50%       30.000000  ...            0.320000     0.320000        0.160000   \n",
              "75%       91.000000  ...            0.750000     0.892500        0.460000   \n",
              "max     5876.000000  ...            2.350000     2.310000      153.000000   \n",
              "\n",
              "       Cholesterol (mg)  Saturated Fat (g)  Monounsaturated Fat (g)  \\\n",
              "count        601.000000         597.000000               590.000000   \n",
              "mean          30.079867           3.570285                 4.307458   \n",
              "std           87.005710           7.407209                 9.187711   \n",
              "min            0.000000           0.000000                 0.000000   \n",
              "25%            0.000000           0.050000                 0.050000   \n",
              "50%            0.000000           0.600000                 0.595000   \n",
              "75%           30.000000           3.680000                 4.840000   \n",
              "max         1085.000000          82.480000                72.960000   \n",
              "\n",
              "       Polyunsaturated fat (g)  Starch (g)  Fructose (g)  Trans Fat (g)  \n",
              "count               590.000000  112.000000    184.000000     343.000000  \n",
              "mean                  2.804780   12.125000      2.168859       0.124927  \n",
              "std                   9.073928   18.773504      6.001451       0.863885  \n",
              "min                   0.000000    0.000000      0.000000       0.000000  \n",
              "25%                   0.090000    0.000000      0.040000       0.000000  \n",
              "50%                   0.450000    1.745000      0.490000       0.000000  \n",
              "75%                   1.922500   16.417500      1.565000       0.000000  \n",
              "max                 153.000000   73.300000     55.600000      14.890000  \n",
              "\n",
              "[8 rows x 45 columns]"
            ],
            "text/html": [
              "\n",
              "  <div id=\"df-8487fbdd-fc3d-442d-b4ce-6c77c5c82895\" class=\"colab-df-container\">\n",
              "    <div>\n",
              "<style scoped>\n",
              "    .dataframe tbody tr th:only-of-type {\n",
              "        vertical-align: middle;\n",
              "    }\n",
              "\n",
              "    .dataframe tbody tr th {\n",
              "        vertical-align: top;\n",
              "    }\n",
              "\n",
              "    .dataframe thead th {\n",
              "        text-align: right;\n",
              "    }\n",
              "</style>\n",
              "<table border=\"1\" class=\"dataframe\">\n",
              "  <thead>\n",
              "    <tr style=\"text-align: right;\">\n",
              "      <th></th>\n",
              "      <th>Glycemic index</th>\n",
              "      <th>Calories (kcal)</th>\n",
              "      <th>Net Carbs ( grams)</th>\n",
              "      <th>Protein (g)</th>\n",
              "      <th>Fats (g)</th>\n",
              "      <th>Carbs (g)</th>\n",
              "      <th>Net carbs (g)</th>\n",
              "      <th>Sugar (g)</th>\n",
              "      <th>Fiber (g)</th>\n",
              "      <th>Calcium (mg)</th>\n",
              "      <th>...</th>\n",
              "      <th>Phenylalanine (mg)</th>\n",
              "      <th>Valine (mg)</th>\n",
              "      <th>Histidine (mg)</th>\n",
              "      <th>Cholesterol (mg)</th>\n",
              "      <th>Saturated Fat (g)</th>\n",
              "      <th>Monounsaturated Fat (g)</th>\n",
              "      <th>Polyunsaturated fat (g)</th>\n",
              "      <th>Starch (g)</th>\n",
              "      <th>Fructose (g)</th>\n",
              "      <th>Trans Fat (g)</th>\n",
              "    </tr>\n",
              "  </thead>\n",
              "  <tbody>\n",
              "    <tr>\n",
              "      <th>count</th>\n",
              "      <td>550.000000</td>\n",
              "      <td>626.000000</td>\n",
              "      <td>626.000000</td>\n",
              "      <td>626.000000</td>\n",
              "      <td>626.000000</td>\n",
              "      <td>626.000000</td>\n",
              "      <td>626.000000</td>\n",
              "      <td>485.000000</td>\n",
              "      <td>581.000000</td>\n",
              "      <td>621.000000</td>\n",
              "      <td>...</td>\n",
              "      <td>427.000000</td>\n",
              "      <td>428.000000</td>\n",
              "      <td>426.000000</td>\n",
              "      <td>601.000000</td>\n",
              "      <td>597.000000</td>\n",
              "      <td>590.000000</td>\n",
              "      <td>590.000000</td>\n",
              "      <td>112.000000</td>\n",
              "      <td>184.000000</td>\n",
              "      <td>343.000000</td>\n",
              "    </tr>\n",
              "    <tr>\n",
              "      <th>mean</th>\n",
              "      <td>35.363636</td>\n",
              "      <td>216.998403</td>\n",
              "      <td>19.527412</td>\n",
              "      <td>8.220064</td>\n",
              "      <td>10.756198</td>\n",
              "      <td>22.770831</td>\n",
              "      <td>19.541757</td>\n",
              "      <td>9.053361</td>\n",
              "      <td>3.479174</td>\n",
              "      <td>107.190016</td>\n",
              "      <td>...</td>\n",
              "      <td>0.457611</td>\n",
              "      <td>0.521425</td>\n",
              "      <td>0.994038</td>\n",
              "      <td>30.079867</td>\n",
              "      <td>3.570285</td>\n",
              "      <td>4.307458</td>\n",
              "      <td>2.804780</td>\n",
              "      <td>12.125000</td>\n",
              "      <td>2.168859</td>\n",
              "      <td>0.124927</td>\n",
              "    </tr>\n",
              "    <tr>\n",
              "      <th>std</th>\n",
              "      <td>25.224070</td>\n",
              "      <td>188.224764</td>\n",
              "      <td>23.340832</td>\n",
              "      <td>9.186056</td>\n",
              "      <td>18.993655</td>\n",
              "      <td>25.012394</td>\n",
              "      <td>23.333177</td>\n",
              "      <td>16.763168</td>\n",
              "      <td>7.061645</td>\n",
              "      <td>308.883300</td>\n",
              "      <td>...</td>\n",
              "      <td>0.442380</td>\n",
              "      <td>0.511791</td>\n",
              "      <td>10.456163</td>\n",
              "      <td>87.005710</td>\n",
              "      <td>7.407209</td>\n",
              "      <td>9.187711</td>\n",
              "      <td>9.073928</td>\n",
              "      <td>18.773504</td>\n",
              "      <td>6.001451</td>\n",
              "      <td>0.863885</td>\n",
              "    </tr>\n",
              "    <tr>\n",
              "      <th>min</th>\n",
              "      <td>0.000000</td>\n",
              "      <td>0.000000</td>\n",
              "      <td>0.000000</td>\n",
              "      <td>0.000000</td>\n",
              "      <td>0.000000</td>\n",
              "      <td>0.000000</td>\n",
              "      <td>0.000000</td>\n",
              "      <td>0.000000</td>\n",
              "      <td>0.000000</td>\n",
              "      <td>0.000000</td>\n",
              "      <td>...</td>\n",
              "      <td>0.000000</td>\n",
              "      <td>0.000000</td>\n",
              "      <td>0.000000</td>\n",
              "      <td>0.000000</td>\n",
              "      <td>0.000000</td>\n",
              "      <td>0.000000</td>\n",
              "      <td>0.000000</td>\n",
              "      <td>0.000000</td>\n",
              "      <td>0.000000</td>\n",
              "      <td>0.000000</td>\n",
              "    </tr>\n",
              "    <tr>\n",
              "      <th>25%</th>\n",
              "      <td>15.000000</td>\n",
              "      <td>60.250000</td>\n",
              "      <td>2.532500</td>\n",
              "      <td>1.202500</td>\n",
              "      <td>0.300000</td>\n",
              "      <td>3.592500</td>\n",
              "      <td>2.532500</td>\n",
              "      <td>0.420000</td>\n",
              "      <td>0.000000</td>\n",
              "      <td>12.000000</td>\n",
              "      <td>...</td>\n",
              "      <td>0.080000</td>\n",
              "      <td>0.090000</td>\n",
              "      <td>0.040000</td>\n",
              "      <td>0.000000</td>\n",
              "      <td>0.050000</td>\n",
              "      <td>0.050000</td>\n",
              "      <td>0.090000</td>\n",
              "      <td>0.000000</td>\n",
              "      <td>0.040000</td>\n",
              "      <td>0.000000</td>\n",
              "    </tr>\n",
              "    <tr>\n",
              "      <th>50%</th>\n",
              "      <td>33.000000</td>\n",
              "      <td>165.500000</td>\n",
              "      <td>9.360000</td>\n",
              "      <td>4.145000</td>\n",
              "      <td>2.005000</td>\n",
              "      <td>13.050000</td>\n",
              "      <td>9.375000</td>\n",
              "      <td>2.500000</td>\n",
              "      <td>1.500000</td>\n",
              "      <td>30.000000</td>\n",
              "      <td>...</td>\n",
              "      <td>0.320000</td>\n",
              "      <td>0.320000</td>\n",
              "      <td>0.160000</td>\n",
              "      <td>0.000000</td>\n",
              "      <td>0.600000</td>\n",
              "      <td>0.595000</td>\n",
              "      <td>0.450000</td>\n",
              "      <td>1.745000</td>\n",
              "      <td>0.490000</td>\n",
              "      <td>0.000000</td>\n",
              "    </tr>\n",
              "    <tr>\n",
              "      <th>75%</th>\n",
              "      <td>54.000000</td>\n",
              "      <td>327.000000</td>\n",
              "      <td>28.497500</td>\n",
              "      <td>13.370000</td>\n",
              "      <td>13.887500</td>\n",
              "      <td>33.457500</td>\n",
              "      <td>28.497500</td>\n",
              "      <td>8.550000</td>\n",
              "      <td>3.300000</td>\n",
              "      <td>91.000000</td>\n",
              "      <td>...</td>\n",
              "      <td>0.750000</td>\n",
              "      <td>0.892500</td>\n",
              "      <td>0.460000</td>\n",
              "      <td>30.000000</td>\n",
              "      <td>3.680000</td>\n",
              "      <td>4.840000</td>\n",
              "      <td>1.922500</td>\n",
              "      <td>16.417500</td>\n",
              "      <td>1.565000</td>\n",
              "      <td>0.000000</td>\n",
              "    </tr>\n",
              "    <tr>\n",
              "      <th>max</th>\n",
              "      <td>104.000000</td>\n",
              "      <td>902.000000</td>\n",
              "      <td>99.980000</td>\n",
              "      <td>75.160000</td>\n",
              "      <td>100.000000</td>\n",
              "      <td>99.980000</td>\n",
              "      <td>99.980000</td>\n",
              "      <td>99.800000</td>\n",
              "      <td>70.100000</td>\n",
              "      <td>5876.000000</td>\n",
              "      <td>...</td>\n",
              "      <td>2.350000</td>\n",
              "      <td>2.310000</td>\n",
              "      <td>153.000000</td>\n",
              "      <td>1085.000000</td>\n",
              "      <td>82.480000</td>\n",
              "      <td>72.960000</td>\n",
              "      <td>153.000000</td>\n",
              "      <td>73.300000</td>\n",
              "      <td>55.600000</td>\n",
              "      <td>14.890000</td>\n",
              "    </tr>\n",
              "  </tbody>\n",
              "</table>\n",
              "<p>8 rows × 45 columns</p>\n",
              "</div>\n",
              "    <div class=\"colab-df-buttons\">\n",
              "\n",
              "  <div class=\"colab-df-container\">\n",
              "    <button class=\"colab-df-convert\" onclick=\"convertToInteractive('df-8487fbdd-fc3d-442d-b4ce-6c77c5c82895')\"\n",
              "            title=\"Convert this dataframe to an interactive table.\"\n",
              "            style=\"display:none;\">\n",
              "\n",
              "  <svg xmlns=\"http://www.w3.org/2000/svg\" height=\"24px\" viewBox=\"0 -960 960 960\">\n",
              "    <path d=\"M120-120v-720h720v720H120Zm60-500h600v-160H180v160Zm220 220h160v-160H400v160Zm0 220h160v-160H400v160ZM180-400h160v-160H180v160Zm440 0h160v-160H620v160ZM180-180h160v-160H180v160Zm440 0h160v-160H620v160Z\"/>\n",
              "  </svg>\n",
              "    </button>\n",
              "\n",
              "  <style>\n",
              "    .colab-df-container {\n",
              "      display:flex;\n",
              "      gap: 12px;\n",
              "    }\n",
              "\n",
              "    .colab-df-convert {\n",
              "      background-color: #E8F0FE;\n",
              "      border: none;\n",
              "      border-radius: 50%;\n",
              "      cursor: pointer;\n",
              "      display: none;\n",
              "      fill: #1967D2;\n",
              "      height: 32px;\n",
              "      padding: 0 0 0 0;\n",
              "      width: 32px;\n",
              "    }\n",
              "\n",
              "    .colab-df-convert:hover {\n",
              "      background-color: #E2EBFA;\n",
              "      box-shadow: 0px 1px 2px rgba(60, 64, 67, 0.3), 0px 1px 3px 1px rgba(60, 64, 67, 0.15);\n",
              "      fill: #174EA6;\n",
              "    }\n",
              "\n",
              "    .colab-df-buttons div {\n",
              "      margin-bottom: 4px;\n",
              "    }\n",
              "\n",
              "    [theme=dark] .colab-df-convert {\n",
              "      background-color: #3B4455;\n",
              "      fill: #D2E3FC;\n",
              "    }\n",
              "\n",
              "    [theme=dark] .colab-df-convert:hover {\n",
              "      background-color: #434B5C;\n",
              "      box-shadow: 0px 1px 3px 1px rgba(0, 0, 0, 0.15);\n",
              "      filter: drop-shadow(0px 1px 2px rgba(0, 0, 0, 0.3));\n",
              "      fill: #FFFFFF;\n",
              "    }\n",
              "  </style>\n",
              "\n",
              "    <script>\n",
              "      const buttonEl =\n",
              "        document.querySelector('#df-8487fbdd-fc3d-442d-b4ce-6c77c5c82895 button.colab-df-convert');\n",
              "      buttonEl.style.display =\n",
              "        google.colab.kernel.accessAllowed ? 'block' : 'none';\n",
              "\n",
              "      async function convertToInteractive(key) {\n",
              "        const element = document.querySelector('#df-8487fbdd-fc3d-442d-b4ce-6c77c5c82895');\n",
              "        const dataTable =\n",
              "          await google.colab.kernel.invokeFunction('convertToInteractive',\n",
              "                                                    [key], {});\n",
              "        if (!dataTable) return;\n",
              "\n",
              "        const docLinkHtml = 'Like what you see? Visit the ' +\n",
              "          '<a target=\"_blank\" href=https://colab.research.google.com/notebooks/data_table.ipynb>data table notebook</a>'\n",
              "          + ' to learn more about interactive tables.';\n",
              "        element.innerHTML = '';\n",
              "        dataTable['output_type'] = 'display_data';\n",
              "        await google.colab.output.renderOutput(dataTable, element);\n",
              "        const docLink = document.createElement('div');\n",
              "        docLink.innerHTML = docLinkHtml;\n",
              "        element.appendChild(docLink);\n",
              "      }\n",
              "    </script>\n",
              "  </div>\n",
              "\n",
              "\n",
              "<div id=\"df-ae44463a-44f3-4c84-a59e-61d7a7869468\">\n",
              "  <button class=\"colab-df-quickchart\" onclick=\"quickchart('df-ae44463a-44f3-4c84-a59e-61d7a7869468')\"\n",
              "            title=\"Suggest charts\"\n",
              "            style=\"display:none;\">\n",
              "\n",
              "<svg xmlns=\"http://www.w3.org/2000/svg\" height=\"24px\"viewBox=\"0 0 24 24\"\n",
              "     width=\"24px\">\n",
              "    <g>\n",
              "        <path d=\"M19 3H5c-1.1 0-2 .9-2 2v14c0 1.1.9 2 2 2h14c1.1 0 2-.9 2-2V5c0-1.1-.9-2-2-2zM9 17H7v-7h2v7zm4 0h-2V7h2v10zm4 0h-2v-4h2v4z\"/>\n",
              "    </g>\n",
              "</svg>\n",
              "  </button>\n",
              "\n",
              "<style>\n",
              "  .colab-df-quickchart {\n",
              "      --bg-color: #E8F0FE;\n",
              "      --fill-color: #1967D2;\n",
              "      --hover-bg-color: #E2EBFA;\n",
              "      --hover-fill-color: #174EA6;\n",
              "      --disabled-fill-color: #AAA;\n",
              "      --disabled-bg-color: #DDD;\n",
              "  }\n",
              "\n",
              "  [theme=dark] .colab-df-quickchart {\n",
              "      --bg-color: #3B4455;\n",
              "      --fill-color: #D2E3FC;\n",
              "      --hover-bg-color: #434B5C;\n",
              "      --hover-fill-color: #FFFFFF;\n",
              "      --disabled-bg-color: #3B4455;\n",
              "      --disabled-fill-color: #666;\n",
              "  }\n",
              "\n",
              "  .colab-df-quickchart {\n",
              "    background-color: var(--bg-color);\n",
              "    border: none;\n",
              "    border-radius: 50%;\n",
              "    cursor: pointer;\n",
              "    display: none;\n",
              "    fill: var(--fill-color);\n",
              "    height: 32px;\n",
              "    padding: 0;\n",
              "    width: 32px;\n",
              "  }\n",
              "\n",
              "  .colab-df-quickchart:hover {\n",
              "    background-color: var(--hover-bg-color);\n",
              "    box-shadow: 0 1px 2px rgba(60, 64, 67, 0.3), 0 1px 3px 1px rgba(60, 64, 67, 0.15);\n",
              "    fill: var(--button-hover-fill-color);\n",
              "  }\n",
              "\n",
              "  .colab-df-quickchart-complete:disabled,\n",
              "  .colab-df-quickchart-complete:disabled:hover {\n",
              "    background-color: var(--disabled-bg-color);\n",
              "    fill: var(--disabled-fill-color);\n",
              "    box-shadow: none;\n",
              "  }\n",
              "\n",
              "  .colab-df-spinner {\n",
              "    border: 2px solid var(--fill-color);\n",
              "    border-color: transparent;\n",
              "    border-bottom-color: var(--fill-color);\n",
              "    animation:\n",
              "      spin 1s steps(1) infinite;\n",
              "  }\n",
              "\n",
              "  @keyframes spin {\n",
              "    0% {\n",
              "      border-color: transparent;\n",
              "      border-bottom-color: var(--fill-color);\n",
              "      border-left-color: var(--fill-color);\n",
              "    }\n",
              "    20% {\n",
              "      border-color: transparent;\n",
              "      border-left-color: var(--fill-color);\n",
              "      border-top-color: var(--fill-color);\n",
              "    }\n",
              "    30% {\n",
              "      border-color: transparent;\n",
              "      border-left-color: var(--fill-color);\n",
              "      border-top-color: var(--fill-color);\n",
              "      border-right-color: var(--fill-color);\n",
              "    }\n",
              "    40% {\n",
              "      border-color: transparent;\n",
              "      border-right-color: var(--fill-color);\n",
              "      border-top-color: var(--fill-color);\n",
              "    }\n",
              "    60% {\n",
              "      border-color: transparent;\n",
              "      border-right-color: var(--fill-color);\n",
              "    }\n",
              "    80% {\n",
              "      border-color: transparent;\n",
              "      border-right-color: var(--fill-color);\n",
              "      border-bottom-color: var(--fill-color);\n",
              "    }\n",
              "    90% {\n",
              "      border-color: transparent;\n",
              "      border-bottom-color: var(--fill-color);\n",
              "    }\n",
              "  }\n",
              "</style>\n",
              "\n",
              "  <script>\n",
              "    async function quickchart(key) {\n",
              "      const quickchartButtonEl =\n",
              "        document.querySelector('#' + key + ' button');\n",
              "      quickchartButtonEl.disabled = true;  // To prevent multiple clicks.\n",
              "      quickchartButtonEl.classList.add('colab-df-spinner');\n",
              "      try {\n",
              "        const charts = await google.colab.kernel.invokeFunction(\n",
              "            'suggestCharts', [key], {});\n",
              "      } catch (error) {\n",
              "        console.error('Error during call to suggestCharts:', error);\n",
              "      }\n",
              "      quickchartButtonEl.classList.remove('colab-df-spinner');\n",
              "      quickchartButtonEl.classList.add('colab-df-quickchart-complete');\n",
              "    }\n",
              "    (() => {\n",
              "      let quickchartButtonEl =\n",
              "        document.querySelector('#df-ae44463a-44f3-4c84-a59e-61d7a7869468 button');\n",
              "      quickchartButtonEl.style.display =\n",
              "        google.colab.kernel.accessAllowed ? 'block' : 'none';\n",
              "    })();\n",
              "  </script>\n",
              "</div>\n",
              "    </div>\n",
              "  </div>\n"
            ],
            "application/vnd.google.colaboratory.intrinsic+json": {
              "type": "dataframe"
            }
          },
          "metadata": {},
          "execution_count": 6
        }
      ],
      "source": [
        "df.describe()"
      ]
    },
    {
      "cell_type": "code",
      "execution_count": 7,
      "metadata": {
        "colab": {
          "base_uri": "https://localhost:8080/"
        },
        "id": "c0Ts3TBxw_HY",
        "outputId": "8a8c5aaf-19d6-4bfd-a36c-c95f39ca4db2"
      },
      "outputs": [
        {
          "output_type": "execute_result",
          "data": {
            "text/plain": [
              "Index(['Name', 'Group', 'Glycemic index', 'Insulin index', 'Serving Size',\n",
              "       'Acidity (Based on PRAL)', 'GI Category', 'Calories (kcal)',\n",
              "       'Net Carbs ( grams)', 'Protein (g)', 'Fats (g)', 'Carbs (g)',\n",
              "       'Net carbs (g)', 'Sugar (g)', 'Fiber (g)', 'Calcium (mg)', 'Iron (mg)',\n",
              "       'Magnesium (mg)', 'Phosphorus (mg)', 'Potassium (mg)', 'Sodium (mg)',\n",
              "       'Zinc (mg)', 'Copper (mg)', 'Vitamin A (IU)', 'Vitamin E (mg)',\n",
              "       'Vitamin D (µg)', 'Vitamin C (mg)', 'Vitamin B1 (mg)',\n",
              "       'Vitamin B2 (mg)', 'Vitamin B3 (mg)', 'Vitamin B5 (mg)',\n",
              "       'Vitamin B6 (mg)', 'Folate (µg)', 'Vitamin B12 (µg)', 'Vitamin K (µg)',\n",
              "       'Tryptophan (mg)', 'Threonine (mg)', 'Isoleucine (mg)', 'Leucine (mg)',\n",
              "       'Lysine (mg)', 'Methionine (mg)', 'Phenylalanine (mg)', 'Valine (mg)',\n",
              "       'Histidine (mg)', 'Cholesterol (mg)', 'Saturated Fat (g)',\n",
              "       'Monounsaturated Fat (g)', 'Polyunsaturated fat (g)', 'Starch (g)',\n",
              "       'Fructose (g)', 'Trans Fat (g)'],\n",
              "      dtype='object')"
            ]
          },
          "metadata": {},
          "execution_count": 7
        }
      ],
      "source": [
        "df.columns"
      ]
    },
    {
      "cell_type": "code",
      "execution_count": 8,
      "metadata": {
        "id": "IRoAXbYcxBHk"
      },
      "outputs": [],
      "source": [
        "df.dropna(subset = ['Glycemic index'], inplace=True)"
      ]
    },
    {
      "cell_type": "code",
      "execution_count": 9,
      "metadata": {
        "id": "3GbzkVdGTL82"
      },
      "outputs": [],
      "source": [
        "dataset = df.fillna(0)"
      ]
    },
    {
      "cell_type": "code",
      "execution_count": 10,
      "metadata": {
        "id": "qlkNwWdaT2p8"
      },
      "outputs": [],
      "source": [
        "dataset['GI Category'] = dataset['GI Category'].map({'low':0, 'medium':1, 'high':2})"
      ]
    },
    {
      "cell_type": "code",
      "execution_count": 11,
      "metadata": {
        "id": "mAnPgV35UQRr"
      },
      "outputs": [],
      "source": [
        "train_columns = [\"Calories (kcal)\", 'Protein (g)','Fats (g)', 'Carbs (g)', 'Fiber (g)', 'Sugar (g)','Phosphorus (mg)', 'Potassium (mg)', 'Sodium (mg)', 'Saturated Fat (g)', 'Trans Fat (g)', 'GI Category']"
      ]
    },
    {
      "cell_type": "code",
      "execution_count": 12,
      "metadata": {
        "id": "JIFTzzkOUbh0"
      },
      "outputs": [],
      "source": [
        "data = dataset[train_columns]"
      ]
    },
    {
      "cell_type": "code",
      "execution_count": 13,
      "metadata": {
        "colab": {
          "base_uri": "https://localhost:8080/",
          "height": 478
        },
        "id": "lozKmEGgUdym",
        "outputId": "b47f7249-254c-49d7-f317-38b673d72412"
      },
      "outputs": [
        {
          "output_type": "execute_result",
          "data": {
            "text/plain": [
              "     Calories (kcal)  Protein (g)  Fats (g)  Carbs (g)  Fiber (g)  Sugar (g)  \\\n",
              "0                313        12.96      4.27      55.77        4.7       6.42   \n",
              "1                353         7.00     16.30      44.60        1.5       2.18   \n",
              "2                272        10.75      2.42      51.88        2.2       4.62   \n",
              "3                371         5.30     15.10      53.40        1.6       0.00   \n",
              "4                324         2.90      9.10      61.60        3.7      27.42   \n",
              "..               ...          ...       ...        ...        ...        ...   \n",
              "617               17         0.85      0.29       3.53        0.4       2.58   \n",
              "618               23         1.10      0.30       5.10        1.9       2.71   \n",
              "620               22         1.14      0.72       3.81        2.5       0.84   \n",
              "621               12         1.10      0.17       2.23        0.0       0.00   \n",
              "625              284         9.25      0.73      73.01       70.1       0.00   \n",
              "\n",
              "     Phosphorus (mg)  Potassium (mg)  Sodium (mg)  Saturated Fat (g)  \\\n",
              "0              188.0           223.0        601.0               0.99   \n",
              "1              164.0           121.0        580.0               4.32   \n",
              "2              105.0           117.0        602.0               0.53   \n",
              "3              106.0           140.0        315.0               5.43   \n",
              "4               52.0           153.0        101.0               1.05   \n",
              "..               ...             ...          ...                ...   \n",
              "617             19.0           217.0         10.0               0.02   \n",
              "618             17.0           158.0         14.0               0.05   \n",
              "620             41.0           261.0          7.0               0.11   \n",
              "621             19.0            87.0         11.0               0.00   \n",
              "625            184.0           754.0         35.0               0.00   \n",
              "\n",
              "     Trans Fat (g)  GI Category  \n",
              "0             0.00            1  \n",
              "1             0.00            0  \n",
              "2             0.01            1  \n",
              "3             0.00            0  \n",
              "4             0.00            0  \n",
              "..             ...          ...  \n",
              "617           0.00            0  \n",
              "618           0.00            0  \n",
              "620           0.00            0  \n",
              "621           0.00            0  \n",
              "625           0.00            0  \n",
              "\n",
              "[550 rows x 12 columns]"
            ],
            "text/html": [
              "\n",
              "  <div id=\"df-d1bf57d4-364f-4d72-8577-9b86a6b438ee\" class=\"colab-df-container\">\n",
              "    <div>\n",
              "<style scoped>\n",
              "    .dataframe tbody tr th:only-of-type {\n",
              "        vertical-align: middle;\n",
              "    }\n",
              "\n",
              "    .dataframe tbody tr th {\n",
              "        vertical-align: top;\n",
              "    }\n",
              "\n",
              "    .dataframe thead th {\n",
              "        text-align: right;\n",
              "    }\n",
              "</style>\n",
              "<table border=\"1\" class=\"dataframe\">\n",
              "  <thead>\n",
              "    <tr style=\"text-align: right;\">\n",
              "      <th></th>\n",
              "      <th>Calories (kcal)</th>\n",
              "      <th>Protein (g)</th>\n",
              "      <th>Fats (g)</th>\n",
              "      <th>Carbs (g)</th>\n",
              "      <th>Fiber (g)</th>\n",
              "      <th>Sugar (g)</th>\n",
              "      <th>Phosphorus (mg)</th>\n",
              "      <th>Potassium (mg)</th>\n",
              "      <th>Sodium (mg)</th>\n",
              "      <th>Saturated Fat (g)</th>\n",
              "      <th>Trans Fat (g)</th>\n",
              "      <th>GI Category</th>\n",
              "    </tr>\n",
              "  </thead>\n",
              "  <tbody>\n",
              "    <tr>\n",
              "      <th>0</th>\n",
              "      <td>313</td>\n",
              "      <td>12.96</td>\n",
              "      <td>4.27</td>\n",
              "      <td>55.77</td>\n",
              "      <td>4.7</td>\n",
              "      <td>6.42</td>\n",
              "      <td>188.0</td>\n",
              "      <td>223.0</td>\n",
              "      <td>601.0</td>\n",
              "      <td>0.99</td>\n",
              "      <td>0.00</td>\n",
              "      <td>1</td>\n",
              "    </tr>\n",
              "    <tr>\n",
              "      <th>1</th>\n",
              "      <td>353</td>\n",
              "      <td>7.00</td>\n",
              "      <td>16.30</td>\n",
              "      <td>44.60</td>\n",
              "      <td>1.5</td>\n",
              "      <td>2.18</td>\n",
              "      <td>164.0</td>\n",
              "      <td>121.0</td>\n",
              "      <td>580.0</td>\n",
              "      <td>4.32</td>\n",
              "      <td>0.00</td>\n",
              "      <td>0</td>\n",
              "    </tr>\n",
              "    <tr>\n",
              "      <th>2</th>\n",
              "      <td>272</td>\n",
              "      <td>10.75</td>\n",
              "      <td>2.42</td>\n",
              "      <td>51.88</td>\n",
              "      <td>2.2</td>\n",
              "      <td>4.62</td>\n",
              "      <td>105.0</td>\n",
              "      <td>117.0</td>\n",
              "      <td>602.0</td>\n",
              "      <td>0.53</td>\n",
              "      <td>0.01</td>\n",
              "      <td>1</td>\n",
              "    </tr>\n",
              "    <tr>\n",
              "      <th>3</th>\n",
              "      <td>371</td>\n",
              "      <td>5.30</td>\n",
              "      <td>15.10</td>\n",
              "      <td>53.40</td>\n",
              "      <td>1.6</td>\n",
              "      <td>0.00</td>\n",
              "      <td>106.0</td>\n",
              "      <td>140.0</td>\n",
              "      <td>315.0</td>\n",
              "      <td>5.43</td>\n",
              "      <td>0.00</td>\n",
              "      <td>0</td>\n",
              "    </tr>\n",
              "    <tr>\n",
              "      <th>4</th>\n",
              "      <td>324</td>\n",
              "      <td>2.90</td>\n",
              "      <td>9.10</td>\n",
              "      <td>61.60</td>\n",
              "      <td>3.7</td>\n",
              "      <td>27.42</td>\n",
              "      <td>52.0</td>\n",
              "      <td>153.0</td>\n",
              "      <td>101.0</td>\n",
              "      <td>1.05</td>\n",
              "      <td>0.00</td>\n",
              "      <td>0</td>\n",
              "    </tr>\n",
              "    <tr>\n",
              "      <th>...</th>\n",
              "      <td>...</td>\n",
              "      <td>...</td>\n",
              "      <td>...</td>\n",
              "      <td>...</td>\n",
              "      <td>...</td>\n",
              "      <td>...</td>\n",
              "      <td>...</td>\n",
              "      <td>...</td>\n",
              "      <td>...</td>\n",
              "      <td>...</td>\n",
              "      <td>...</td>\n",
              "      <td>...</td>\n",
              "    </tr>\n",
              "    <tr>\n",
              "      <th>617</th>\n",
              "      <td>17</td>\n",
              "      <td>0.85</td>\n",
              "      <td>0.29</td>\n",
              "      <td>3.53</td>\n",
              "      <td>0.4</td>\n",
              "      <td>2.58</td>\n",
              "      <td>19.0</td>\n",
              "      <td>217.0</td>\n",
              "      <td>10.0</td>\n",
              "      <td>0.02</td>\n",
              "      <td>0.00</td>\n",
              "      <td>0</td>\n",
              "    </tr>\n",
              "    <tr>\n",
              "      <th>618</th>\n",
              "      <td>23</td>\n",
              "      <td>1.10</td>\n",
              "      <td>0.30</td>\n",
              "      <td>5.10</td>\n",
              "      <td>1.9</td>\n",
              "      <td>2.71</td>\n",
              "      <td>17.0</td>\n",
              "      <td>158.0</td>\n",
              "      <td>14.0</td>\n",
              "      <td>0.05</td>\n",
              "      <td>0.00</td>\n",
              "      <td>0</td>\n",
              "    </tr>\n",
              "    <tr>\n",
              "      <th>620</th>\n",
              "      <td>22</td>\n",
              "      <td>1.14</td>\n",
              "      <td>0.72</td>\n",
              "      <td>3.81</td>\n",
              "      <td>2.5</td>\n",
              "      <td>0.84</td>\n",
              "      <td>41.0</td>\n",
              "      <td>261.0</td>\n",
              "      <td>7.0</td>\n",
              "      <td>0.11</td>\n",
              "      <td>0.00</td>\n",
              "      <td>0</td>\n",
              "    </tr>\n",
              "    <tr>\n",
              "      <th>621</th>\n",
              "      <td>12</td>\n",
              "      <td>1.10</td>\n",
              "      <td>0.17</td>\n",
              "      <td>2.23</td>\n",
              "      <td>0.0</td>\n",
              "      <td>0.00</td>\n",
              "      <td>19.0</td>\n",
              "      <td>87.0</td>\n",
              "      <td>11.0</td>\n",
              "      <td>0.00</td>\n",
              "      <td>0.00</td>\n",
              "      <td>0</td>\n",
              "    </tr>\n",
              "    <tr>\n",
              "      <th>625</th>\n",
              "      <td>284</td>\n",
              "      <td>9.25</td>\n",
              "      <td>0.73</td>\n",
              "      <td>73.01</td>\n",
              "      <td>70.1</td>\n",
              "      <td>0.00</td>\n",
              "      <td>184.0</td>\n",
              "      <td>754.0</td>\n",
              "      <td>35.0</td>\n",
              "      <td>0.00</td>\n",
              "      <td>0.00</td>\n",
              "      <td>0</td>\n",
              "    </tr>\n",
              "  </tbody>\n",
              "</table>\n",
              "<p>550 rows × 12 columns</p>\n",
              "</div>\n",
              "    <div class=\"colab-df-buttons\">\n",
              "\n",
              "  <div class=\"colab-df-container\">\n",
              "    <button class=\"colab-df-convert\" onclick=\"convertToInteractive('df-d1bf57d4-364f-4d72-8577-9b86a6b438ee')\"\n",
              "            title=\"Convert this dataframe to an interactive table.\"\n",
              "            style=\"display:none;\">\n",
              "\n",
              "  <svg xmlns=\"http://www.w3.org/2000/svg\" height=\"24px\" viewBox=\"0 -960 960 960\">\n",
              "    <path d=\"M120-120v-720h720v720H120Zm60-500h600v-160H180v160Zm220 220h160v-160H400v160Zm0 220h160v-160H400v160ZM180-400h160v-160H180v160Zm440 0h160v-160H620v160ZM180-180h160v-160H180v160Zm440 0h160v-160H620v160Z\"/>\n",
              "  </svg>\n",
              "    </button>\n",
              "\n",
              "  <style>\n",
              "    .colab-df-container {\n",
              "      display:flex;\n",
              "      gap: 12px;\n",
              "    }\n",
              "\n",
              "    .colab-df-convert {\n",
              "      background-color: #E8F0FE;\n",
              "      border: none;\n",
              "      border-radius: 50%;\n",
              "      cursor: pointer;\n",
              "      display: none;\n",
              "      fill: #1967D2;\n",
              "      height: 32px;\n",
              "      padding: 0 0 0 0;\n",
              "      width: 32px;\n",
              "    }\n",
              "\n",
              "    .colab-df-convert:hover {\n",
              "      background-color: #E2EBFA;\n",
              "      box-shadow: 0px 1px 2px rgba(60, 64, 67, 0.3), 0px 1px 3px 1px rgba(60, 64, 67, 0.15);\n",
              "      fill: #174EA6;\n",
              "    }\n",
              "\n",
              "    .colab-df-buttons div {\n",
              "      margin-bottom: 4px;\n",
              "    }\n",
              "\n",
              "    [theme=dark] .colab-df-convert {\n",
              "      background-color: #3B4455;\n",
              "      fill: #D2E3FC;\n",
              "    }\n",
              "\n",
              "    [theme=dark] .colab-df-convert:hover {\n",
              "      background-color: #434B5C;\n",
              "      box-shadow: 0px 1px 3px 1px rgba(0, 0, 0, 0.15);\n",
              "      filter: drop-shadow(0px 1px 2px rgba(0, 0, 0, 0.3));\n",
              "      fill: #FFFFFF;\n",
              "    }\n",
              "  </style>\n",
              "\n",
              "    <script>\n",
              "      const buttonEl =\n",
              "        document.querySelector('#df-d1bf57d4-364f-4d72-8577-9b86a6b438ee button.colab-df-convert');\n",
              "      buttonEl.style.display =\n",
              "        google.colab.kernel.accessAllowed ? 'block' : 'none';\n",
              "\n",
              "      async function convertToInteractive(key) {\n",
              "        const element = document.querySelector('#df-d1bf57d4-364f-4d72-8577-9b86a6b438ee');\n",
              "        const dataTable =\n",
              "          await google.colab.kernel.invokeFunction('convertToInteractive',\n",
              "                                                    [key], {});\n",
              "        if (!dataTable) return;\n",
              "\n",
              "        const docLinkHtml = 'Like what you see? Visit the ' +\n",
              "          '<a target=\"_blank\" href=https://colab.research.google.com/notebooks/data_table.ipynb>data table notebook</a>'\n",
              "          + ' to learn more about interactive tables.';\n",
              "        element.innerHTML = '';\n",
              "        dataTable['output_type'] = 'display_data';\n",
              "        await google.colab.output.renderOutput(dataTable, element);\n",
              "        const docLink = document.createElement('div');\n",
              "        docLink.innerHTML = docLinkHtml;\n",
              "        element.appendChild(docLink);\n",
              "      }\n",
              "    </script>\n",
              "  </div>\n",
              "\n",
              "\n",
              "<div id=\"df-0227a0e0-0257-4e03-b947-791a54910eef\">\n",
              "  <button class=\"colab-df-quickchart\" onclick=\"quickchart('df-0227a0e0-0257-4e03-b947-791a54910eef')\"\n",
              "            title=\"Suggest charts\"\n",
              "            style=\"display:none;\">\n",
              "\n",
              "<svg xmlns=\"http://www.w3.org/2000/svg\" height=\"24px\"viewBox=\"0 0 24 24\"\n",
              "     width=\"24px\">\n",
              "    <g>\n",
              "        <path d=\"M19 3H5c-1.1 0-2 .9-2 2v14c0 1.1.9 2 2 2h14c1.1 0 2-.9 2-2V5c0-1.1-.9-2-2-2zM9 17H7v-7h2v7zm4 0h-2V7h2v10zm4 0h-2v-4h2v4z\"/>\n",
              "    </g>\n",
              "</svg>\n",
              "  </button>\n",
              "\n",
              "<style>\n",
              "  .colab-df-quickchart {\n",
              "      --bg-color: #E8F0FE;\n",
              "      --fill-color: #1967D2;\n",
              "      --hover-bg-color: #E2EBFA;\n",
              "      --hover-fill-color: #174EA6;\n",
              "      --disabled-fill-color: #AAA;\n",
              "      --disabled-bg-color: #DDD;\n",
              "  }\n",
              "\n",
              "  [theme=dark] .colab-df-quickchart {\n",
              "      --bg-color: #3B4455;\n",
              "      --fill-color: #D2E3FC;\n",
              "      --hover-bg-color: #434B5C;\n",
              "      --hover-fill-color: #FFFFFF;\n",
              "      --disabled-bg-color: #3B4455;\n",
              "      --disabled-fill-color: #666;\n",
              "  }\n",
              "\n",
              "  .colab-df-quickchart {\n",
              "    background-color: var(--bg-color);\n",
              "    border: none;\n",
              "    border-radius: 50%;\n",
              "    cursor: pointer;\n",
              "    display: none;\n",
              "    fill: var(--fill-color);\n",
              "    height: 32px;\n",
              "    padding: 0;\n",
              "    width: 32px;\n",
              "  }\n",
              "\n",
              "  .colab-df-quickchart:hover {\n",
              "    background-color: var(--hover-bg-color);\n",
              "    box-shadow: 0 1px 2px rgba(60, 64, 67, 0.3), 0 1px 3px 1px rgba(60, 64, 67, 0.15);\n",
              "    fill: var(--button-hover-fill-color);\n",
              "  }\n",
              "\n",
              "  .colab-df-quickchart-complete:disabled,\n",
              "  .colab-df-quickchart-complete:disabled:hover {\n",
              "    background-color: var(--disabled-bg-color);\n",
              "    fill: var(--disabled-fill-color);\n",
              "    box-shadow: none;\n",
              "  }\n",
              "\n",
              "  .colab-df-spinner {\n",
              "    border: 2px solid var(--fill-color);\n",
              "    border-color: transparent;\n",
              "    border-bottom-color: var(--fill-color);\n",
              "    animation:\n",
              "      spin 1s steps(1) infinite;\n",
              "  }\n",
              "\n",
              "  @keyframes spin {\n",
              "    0% {\n",
              "      border-color: transparent;\n",
              "      border-bottom-color: var(--fill-color);\n",
              "      border-left-color: var(--fill-color);\n",
              "    }\n",
              "    20% {\n",
              "      border-color: transparent;\n",
              "      border-left-color: var(--fill-color);\n",
              "      border-top-color: var(--fill-color);\n",
              "    }\n",
              "    30% {\n",
              "      border-color: transparent;\n",
              "      border-left-color: var(--fill-color);\n",
              "      border-top-color: var(--fill-color);\n",
              "      border-right-color: var(--fill-color);\n",
              "    }\n",
              "    40% {\n",
              "      border-color: transparent;\n",
              "      border-right-color: var(--fill-color);\n",
              "      border-top-color: var(--fill-color);\n",
              "    }\n",
              "    60% {\n",
              "      border-color: transparent;\n",
              "      border-right-color: var(--fill-color);\n",
              "    }\n",
              "    80% {\n",
              "      border-color: transparent;\n",
              "      border-right-color: var(--fill-color);\n",
              "      border-bottom-color: var(--fill-color);\n",
              "    }\n",
              "    90% {\n",
              "      border-color: transparent;\n",
              "      border-bottom-color: var(--fill-color);\n",
              "    }\n",
              "  }\n",
              "</style>\n",
              "\n",
              "  <script>\n",
              "    async function quickchart(key) {\n",
              "      const quickchartButtonEl =\n",
              "        document.querySelector('#' + key + ' button');\n",
              "      quickchartButtonEl.disabled = true;  // To prevent multiple clicks.\n",
              "      quickchartButtonEl.classList.add('colab-df-spinner');\n",
              "      try {\n",
              "        const charts = await google.colab.kernel.invokeFunction(\n",
              "            'suggestCharts', [key], {});\n",
              "      } catch (error) {\n",
              "        console.error('Error during call to suggestCharts:', error);\n",
              "      }\n",
              "      quickchartButtonEl.classList.remove('colab-df-spinner');\n",
              "      quickchartButtonEl.classList.add('colab-df-quickchart-complete');\n",
              "    }\n",
              "    (() => {\n",
              "      let quickchartButtonEl =\n",
              "        document.querySelector('#df-0227a0e0-0257-4e03-b947-791a54910eef button');\n",
              "      quickchartButtonEl.style.display =\n",
              "        google.colab.kernel.accessAllowed ? 'block' : 'none';\n",
              "    })();\n",
              "  </script>\n",
              "</div>\n",
              "    </div>\n",
              "  </div>\n"
            ],
            "application/vnd.google.colaboratory.intrinsic+json": {
              "type": "dataframe",
              "variable_name": "data",
              "summary": "{\n  \"name\": \"data\",\n  \"rows\": 550,\n  \"fields\": [\n    {\n      \"column\": \"Calories (kcal)\",\n      \"properties\": {\n        \"dtype\": \"number\",\n        \"std\": 190,\n        \"min\": 0,\n        \"max\": 902,\n        \"num_unique_values\": 304,\n        \"samples\": [\n          92,\n          335,\n          160\n        ],\n        \"semantic_type\": \"\",\n        \"description\": \"\"\n      }\n    },\n    {\n      \"column\": \"Protein (g)\",\n      \"properties\": {\n        \"dtype\": \"number\",\n        \"std\": 9.259922112651537,\n        \"min\": 0.0,\n        \"max\": 75.16,\n        \"num_unique_values\": 415,\n        \"samples\": [\n          6.15,\n          2.18,\n          23.58\n        ],\n        \"semantic_type\": \"\",\n        \"description\": \"\"\n      }\n    },\n    {\n      \"column\": \"Fats (g)\",\n      \"properties\": {\n        \"dtype\": \"number\",\n        \"std\": 19.529972339349527,\n        \"min\": 0.0,\n        \"max\": 100.0,\n        \"num_unique_values\": 360,\n        \"samples\": [\n          13.92,\n          3.13,\n          0.47\n        ],\n        \"semantic_type\": \"\",\n        \"description\": \"\"\n      }\n    },\n    {\n      \"column\": \"Carbs (g)\",\n      \"properties\": {\n        \"dtype\": \"number\",\n        \"std\": 25.272724653287664,\n        \"min\": 0.0,\n        \"max\": 99.98,\n        \"num_unique_values\": 445,\n        \"samples\": [\n          0.12,\n          11.29,\n          28.03\n        ],\n        \"semantic_type\": \"\",\n        \"description\": \"\"\n      }\n    },\n    {\n      \"column\": \"Fiber (g)\",\n      \"properties\": {\n        \"dtype\": \"number\",\n        \"std\": 6.369072419955997,\n        \"min\": 0.0,\n        \"max\": 70.1,\n        \"num_unique_values\": 113,\n        \"samples\": [\n          14.0,\n          3.7,\n          2.9\n        ],\n        \"semantic_type\": \"\",\n        \"description\": \"\"\n      }\n    },\n    {\n      \"column\": \"Sugar (g)\",\n      \"properties\": {\n        \"dtype\": \"number\",\n        \"std\": 15.503983603910626,\n        \"min\": 0.0,\n        \"max\": 99.8,\n        \"num_unique_values\": 299,\n        \"samples\": [\n          3.8,\n          1.7,\n          1.1\n        ],\n        \"semantic_type\": \"\",\n        \"description\": \"\"\n      }\n    },\n    {\n      \"column\": \"Phosphorus (mg)\",\n      \"properties\": {\n        \"dtype\": \"number\",\n        \"std\": 179.4871429818232,\n        \"min\": 0.0,\n        \"max\": 2191.0,\n        \"num_unique_values\": 268,\n        \"samples\": [\n          26.0,\n          247.0,\n          42.0\n        ],\n        \"semantic_type\": \"\",\n        \"description\": \"\"\n      }\n    },\n    {\n      \"column\": \"Potassium (mg)\",\n      \"properties\": {\n        \"dtype\": \"number\",\n        \"std\": 356.45395991255396,\n        \"min\": 0.0,\n        \"max\": 3020.0,\n        \"num_unique_values\": 355,\n        \"samples\": [\n          284.0,\n          27.0,\n          1025.0\n        ],\n        \"semantic_type\": \"\",\n        \"description\": \"\"\n      }\n    },\n    {\n      \"column\": \"Sodium (mg)\",\n      \"properties\": {\n        \"dtype\": \"number\",\n        \"std\": 2055.0783851403426,\n        \"min\": 0.0,\n        \"max\": 38758.0,\n        \"num_unique_values\": 248,\n        \"samples\": [\n          10600.0,\n          377.0,\n          18.0\n        ],\n        \"semantic_type\": \"\",\n        \"description\": \"\"\n      }\n    },\n    {\n      \"column\": \"Saturated Fat (g)\",\n      \"properties\": {\n        \"dtype\": \"number\",\n        \"std\": 7.6263434070254865,\n        \"min\": 0.0,\n        \"max\": 82.48,\n        \"num_unique_values\": 285,\n        \"samples\": [\n          11.05,\n          0.52,\n          2.3\n        ],\n        \"semantic_type\": \"\",\n        \"description\": \"\"\n      }\n    },\n    {\n      \"column\": \"Trans Fat (g)\",\n      \"properties\": {\n        \"dtype\": \"number\",\n        \"std\": 0.6767444372018556,\n        \"min\": 0.0,\n        \"max\": 14.89,\n        \"num_unique_values\": 39,\n        \"samples\": [\n          0.25,\n          0.39,\n          0.71\n        ],\n        \"semantic_type\": \"\",\n        \"description\": \"\"\n      }\n    },\n    {\n      \"column\": \"GI Category\",\n      \"properties\": {\n        \"dtype\": \"number\",\n        \"std\": 0,\n        \"min\": 0,\n        \"max\": 2,\n        \"num_unique_values\": 3,\n        \"samples\": [\n          1,\n          0,\n          2\n        ],\n        \"semantic_type\": \"\",\n        \"description\": \"\"\n      }\n    }\n  ]\n}"
            }
          },
          "metadata": {},
          "execution_count": 13
        }
      ],
      "source": [
        "data"
      ]
    },
    {
      "cell_type": "code",
      "execution_count": 14,
      "metadata": {
        "colab": {
          "base_uri": "https://localhost:8080/",
          "height": 941
        },
        "id": "phA9HuXdaNAu",
        "outputId": "ef32ea45-3c16-4243-981c-04fc28786a6b"
      },
      "outputs": [
        {
          "output_type": "execute_result",
          "data": {
            "text/plain": [
              "<Axes: title={'center': 'Correlation matrix of data'}>"
            ]
          },
          "metadata": {},
          "execution_count": 14
        },
        {
          "output_type": "display_data",
          "data": {
            "text/plain": [
              "<Figure size 1000x1000 with 2 Axes>"
            ],
            "image/png": "[encoded data removed]"
          },
          "metadata": {}
        }
      ],
      "source": [
        "# correlation matrix\n",
        "\n",
        "import matplotlib.pyplot as plt\n",
        "\n",
        "corrMatrix = data.corr()\n",
        "plt.figure(figsize=(10, 10))\n",
        "g2=sns.heatmap(corrMatrix, annot = True)\n",
        "plt.title(\"Correlation matrix of data\")\n",
        "g2"
      ]
    },
    {
      "cell_type": "code",
      "execution_count": 15,
      "metadata": {
        "colab": {
          "base_uri": "https://localhost:8080/"
        },
        "id": "ODQG9QjUUfxG",
        "outputId": "a6a49403-5267-4528-cf06-6a4f27e0c1e5"
      },
      "outputs": [
        {
          "output_type": "execute_result",
          "data": {
            "text/plain": [
              "0    418\n",
              "1     95\n",
              "2     37\n",
              "Name: GI Category, dtype: int64"
            ]
          },
          "metadata": {},
          "execution_count": 15
        }
      ],
      "source": [
        "data['GI Category'].value_counts()"
      ]
    },
    {
      "cell_type": "code",
      "execution_count": 16,
      "metadata": {
        "id": "ofpAFTd0XDlR"
      },
      "outputs": [],
      "source": [
        "# separating the data and labels\n",
        "X = data.drop(columns = 'GI Category', axis=1)  # axis = 1 (specify column)\n",
        "Y = data['GI Category']"
      ]
    },
    {
      "cell_type": "code",
      "execution_count": 17,
      "metadata": {
        "colab": {
          "base_uri": "https://localhost:8080/"
        },
        "id": "5_9l-irUXasS",
        "outputId": "429ab7a9-f9b7-42ad-ea31-ddb051dca49a"
      },
      "outputs": [
        {
          "output_type": "stream",
          "name": "stdout",
          "text": [
            "     Calories (kcal)  Protein (g)  Fats (g)  Carbs (g)  Fiber (g)  Sugar (g)  \\\n",
            "0                313        12.96      4.27      55.77        4.7       6.42   \n",
            "1                353         7.00     16.30      44.60        1.5       2.18   \n",
            "2                272        10.75      2.42      51.88        2.2       4.62   \n",
            "3                371         5.30     15.10      53.40        1.6       0.00   \n",
            "4                324         2.90      9.10      61.60        3.7      27.42   \n",
            "..               ...          ...       ...        ...        ...        ...   \n",
            "617               17         0.85      0.29       3.53        0.4       2.58   \n",
            "618               23         1.10      0.30       5.10        1.9       2.71   \n",
            "620               22         1.14      0.72       3.81        2.5       0.84   \n",
            "621               12         1.10      0.17       2.23        0.0       0.00   \n",
            "625              284         9.25      0.73      73.01       70.1       0.00   \n",
            "\n",
            "     Phosphorus (mg)  Potassium (mg)  Sodium (mg)  Saturated Fat (g)  \\\n",
            "0              188.0           223.0        601.0               0.99   \n",
            "1              164.0           121.0        580.0               4.32   \n",
            "2              105.0           117.0        602.0               0.53   \n",
            "3              106.0           140.0        315.0               5.43   \n",
            "4               52.0           153.0        101.0               1.05   \n",
            "..               ...             ...          ...                ...   \n",
            "617             19.0           217.0         10.0               0.02   \n",
            "618             17.0           158.0         14.0               0.05   \n",
            "620             41.0           261.0          7.0               0.11   \n",
            "621             19.0            87.0         11.0               0.00   \n",
            "625            184.0           754.0         35.0               0.00   \n",
            "\n",
            "     Trans Fat (g)  \n",
            "0             0.00  \n",
            "1             0.00  \n",
            "2             0.01  \n",
            "3             0.00  \n",
            "4             0.00  \n",
            "..             ...  \n",
            "617           0.00  \n",
            "618           0.00  \n",
            "620           0.00  \n",
            "621           0.00  \n",
            "625           0.00  \n",
            "\n",
            "[550 rows x 11 columns]\n"
          ]
        }
      ],
      "source": [
        "print(X)"
      ]
    },
    {
      "cell_type": "code",
      "execution_count": 18,
      "metadata": {
        "colab": {
          "base_uri": "https://localhost:8080/"
        },
        "id": "ZncUQqF6XhST",
        "outputId": "585069b4-9915-48f6-c127-af3054bd42ca"
      },
      "outputs": [
        {
          "output_type": "stream",
          "name": "stdout",
          "text": [
            "0      1\n",
            "1      0\n",
            "2      1\n",
            "3      0\n",
            "4      0\n",
            "      ..\n",
            "617    0\n",
            "618    0\n",
            "620    0\n",
            "621    0\n",
            "625    0\n",
            "Name: GI Category, Length: 550, dtype: int64\n"
          ]
        }
      ],
      "source": [
        "print(Y)"
      ]
    },
    {
      "cell_type": "code",
      "execution_count": 19,
      "metadata": {
        "id": "L8Za4zAiXkXW"
      },
      "outputs": [],
      "source": [
        "from sklearn.preprocessing import StandardScaler\n",
        "\n",
        "# get standard scalar  z = (x - u) / s  ; u = mean , s = standard deviation (range - to + value depend on data)\n",
        "scaler = StandardScaler()   #Standardize features by removing the mean and scaling to unit variance"
      ]
    },
    {
      "cell_type": "code",
      "execution_count": 20,
      "metadata": {
        "colab": {
          "base_uri": "https://localhost:8080/",
          "height": 74
        },
        "id": "SKnleKZhYT5K",
        "outputId": "e3f23da9-e860-433f-e2e5-d6cc4ab8890e"
      },
      "outputs": [
        {
          "output_type": "execute_result",
          "data": {
            "text/plain": [
              "StandardScaler()"
            ],
            "text/html": [
              "<style>#sk-container-id-1 {color: black;background-color: white;}#sk-container-id-1 pre{padding: 0;}#sk-container-id-1 div.sk-toggleable {background-color: white;}#sk-container-id-1 label.sk-toggleable__label {cursor: pointer;display: block;width: 100%;margin-bottom: 0;padding: 0.3em;box-sizing: border-box;text-align: center;}#sk-container-id-1 label.sk-toggleable__label-arrow:before {content: \"▸\";float: left;margin-right: 0.25em;color: #696969;}#sk-container-id-1 label.sk-toggleable__label-arrow:hover:before {color: black;}#sk-container-id-1 div.sk-estimator:hover label.sk-toggleable__label-arrow:before {color: black;}#sk-container-id-1 div.sk-toggleable__content {max-height: 0;max-width: 0;overflow: hidden;text-align: left;background-color: #f0f8ff;}#sk-container-id-1 div.sk-toggleable__content pre {margin: 0.2em;color: black;border-radius: 0.25em;background-color: #f0f8ff;}#sk-container-id-1 input.sk-toggleable__control:checked~div.sk-toggleable__content {max-height: 200px;max-width: 100%;overflow: auto;}#sk-container-id-1 input.sk-toggleable__control:checked~label.sk-toggleable__label-arrow:before {content: \"▾\";}#sk-container-id-1 div.sk-estimator input.sk-toggleable__control:checked~label.sk-toggleable__label {background-color: #d4ebff;}#sk-container-id-1 div.sk-label input.sk-toggleable__control:checked~label.sk-toggleable__label {background-color: #d4ebff;}#sk-container-id-1 input.sk-hidden--visually {border: 0;clip: rect(1px 1px 1px 1px);clip: rect(1px, 1px, 1px, 1px);height: 1px;margin: -1px;overflow: hidden;padding: 0;position: absolute;width: 1px;}#sk-container-id-1 div.sk-estimator {font-family: monospace;background-color: #f0f8ff;border: 1px dotted black;border-radius: 0.25em;box-sizing: border-box;margin-bottom: 0.5em;}#sk-container-id-1 div.sk-estimator:hover {background-color: #d4ebff;}#sk-container-id-1 div.sk-parallel-item::after {content: \"\";width: 100%;border-bottom: 1px solid gray;flex-grow: 1;}#sk-container-id-1 div.sk-label:hover label.sk-toggleable__label {background-color: #d4ebff;}#sk-container-id-1 div.sk-serial::before {content: \"\";position: absolute;border-left: 1px solid gray;box-sizing: border-box;top: 0;bottom: 0;left: 50%;z-index: 0;}#sk-container-id-1 div.sk-serial {display: flex;flex-direction: column;align-items: center;background-color: white;padding-right: 0.2em;padding-left: 0.2em;position: relative;}#sk-container-id-1 div.sk-item {position: relative;z-index: 1;}#sk-container-id-1 div.sk-parallel {display: flex;align-items: stretch;justify-content: center;background-color: white;position: relative;}#sk-container-id-1 div.sk-item::before, #sk-container-id-1 div.sk-parallel-item::before {content: \"\";position: absolute;border-left: 1px solid gray;box-sizing: border-box;top: 0;bottom: 0;left: 50%;z-index: -1;}#sk-container-id-1 div.sk-parallel-item {display: flex;flex-direction: column;z-index: 1;position: relative;background-color: white;}#sk-container-id-1 div.sk-parallel-item:first-child::after {align-self: flex-end;width: 50%;}#sk-container-id-1 div.sk-parallel-item:last-child::after {align-self: flex-start;width: 50%;}#sk-container-id-1 div.sk-parallel-item:only-child::after {width: 0;}#sk-container-id-1 div.sk-dashed-wrapped {border: 1px dashed gray;margin: 0 0.4em 0.5em 0.4em;box-sizing: border-box;padding-bottom: 0.4em;background-color: white;}#sk-container-id-1 div.sk-label label {font-family: monospace;font-weight: bold;display: inline-block;line-height: 1.2em;}#sk-container-id-1 div.sk-label-container {text-align: center;}#sk-container-id-1 div.sk-container {/* jupyter's `normalize.less` sets `[hidden] { display: none; }` but bootstrap.min.css set `[hidden] { display: none !important; }` so we also need the `!important` here to be able to override the default hidden behavior on the sphinx rendered scikit-learn.org. See: https://github.com/scikit-learn/scikit-learn/issues/21755 */display: inline-block !important;position: relative;}#sk-container-id-1 div.sk-text-repr-fallback {display: none;}</style><div id=\"sk-container-id-1\" class=\"sk-top-container\"><div class=\"sk-text-repr-fallback\"><pre>StandardScaler()</pre><b>In a Jupyter environment, please rerun this cell to show the HTML representation or trust the notebook. <br />On GitHub, the HTML representation is unable to render, please try loading this page with nbviewer.org.</b></div><div class=\"sk-container\" hidden><div class=\"sk-item\"><div class=\"sk-estimator sk-toggleable\"><input class=\"sk-toggleable__control sk-hidden--visually\" id=\"sk-estimator-id-1\" type=\"checkbox\" checked><label for=\"sk-estimator-id-1\" class=\"sk-toggleable__label sk-toggleable__label-arrow\">StandardScaler</label><div class=\"sk-toggleable__content\"><pre>StandardScaler()</pre></div></div></div></div></div>"
            ]
          },
          "metadata": {},
          "execution_count": 20
        }
      ],
      "source": [
        "scaler.fit(X)  # Compute the mean and std to be used for later scaling."
      ]
    },
    {
      "cell_type": "code",
      "execution_count": 21,
      "metadata": {
        "id": "REhe_hF5YaH1"
      },
      "outputs": [],
      "source": [
        "standardized_data = scaler.transform(X)   # Perform standardization by centering and scaling"
      ]
    },
    {
      "cell_type": "code",
      "execution_count": 22,
      "metadata": {
        "colab": {
          "base_uri": "https://localhost:8080/"
        },
        "id": "DMnb-NGfYa3H",
        "outputId": "24e34707-6b44-4aed-b9bb-78bf869bb415"
      },
      "outputs": [
        {
          "output_type": "stream",
          "name": "stdout",
          "text": [
            "[[ 0.47682419  0.48855172 -0.35308521 ...  0.11214639 -0.34627843\n",
            "  -0.10732219]\n",
            " [ 0.68706413 -0.15566812  0.26345183 ...  0.1019185   0.09076344\n",
            "  -0.10732219]\n",
            " [ 0.26132825  0.24967155 -0.44789764 ...  0.11263343 -0.40665058\n",
            "  -0.09253211]\n",
            " ...\n",
            " [-1.05267139 -0.78907891 -0.53502258 ... -0.17715681 -0.46177298\n",
            "  -0.10732219]\n",
            " [-1.10523138 -0.79340253 -0.56321006 ... -0.17520864 -0.4762098\n",
            "  -0.10732219]\n",
            " [ 0.32440023  0.08753568 -0.53451008 ... -0.16351962 -0.4762098\n",
            "  -0.10732219]]\n"
          ]
        }
      ],
      "source": [
        "print(standardized_data)  # see standardized data"
      ]
    },
    {
      "cell_type": "code",
      "execution_count": 23,
      "metadata": {
        "id": "pPk3sBJ9YfU3"
      },
      "outputs": [],
      "source": [
        "# take standardize data for further processing\n",
        "X = standardized_data\n",
        "Y = data['GI Category']"
      ]
    },
    {
      "cell_type": "code",
      "execution_count": 24,
      "metadata": {
        "colab": {
          "base_uri": "https://localhost:8080/"
        },
        "id": "UGltekO5Yo23",
        "outputId": "726df033-cb18-4c14-959a-f099967a1876"
      },
      "outputs": [
        {
          "output_type": "stream",
          "name": "stdout",
          "text": [
            "[[ 0.47682419  0.48855172 -0.35308521 ...  0.11214639 -0.34627843\n",
            "  -0.10732219]\n",
            " [ 0.68706413 -0.15566812  0.26345183 ...  0.1019185   0.09076344\n",
            "  -0.10732219]\n",
            " [ 0.26132825  0.24967155 -0.44789764 ...  0.11263343 -0.40665058\n",
            "  -0.09253211]\n",
            " ...\n",
            " [-1.05267139 -0.78907891 -0.53502258 ... -0.17715681 -0.46177298\n",
            "  -0.10732219]\n",
            " [-1.10523138 -0.79340253 -0.56321006 ... -0.17520864 -0.4762098\n",
            "  -0.10732219]\n",
            " [ 0.32440023  0.08753568 -0.53451008 ... -0.16351962 -0.4762098\n",
            "  -0.10732219]]\n",
            "0      1\n",
            "1      0\n",
            "2      1\n",
            "3      0\n",
            "4      0\n",
            "      ..\n",
            "617    0\n",
            "618    0\n",
            "620    0\n",
            "621    0\n",
            "625    0\n",
            "Name: GI Category, Length: 550, dtype: int64\n"
          ]
        }
      ],
      "source": [
        "print(X)\n",
        "print(Y)"
      ]
    },
    {
      "cell_type": "code",
      "execution_count": 25,
      "metadata": {
        "id": "ydkMzcw7Yq2Q"
      },
      "outputs": [],
      "source": [
        "from sklearn.model_selection import train_test_split\n",
        "\n",
        "# split ( make sure we split them roughly with equal patients and healthy into both sides )\n",
        "# Test set size 20%\n",
        "X_train, X_test, Y_train, Y_test = train_test_split(X,Y, test_size = 0.2, stratify=Y, random_state=2)"
      ]
    },
    {
      "cell_type": "code",
      "execution_count": 26,
      "metadata": {
        "colab": {
          "base_uri": "https://localhost:8080/"
        },
        "id": "8UT3Q6WGY3yr",
        "outputId": "521bf27f-39d5-432a-eecd-1bad4a615362"
      },
      "outputs": [
        {
          "output_type": "stream",
          "name": "stdout",
          "text": [
            "(550, 11) (440, 11) (110, 11)\n"
          ]
        }
      ],
      "source": [
        "print(X.shape, X_train.shape, X_test.shape)"
      ]
    },
    {
      "cell_type": "markdown",
      "metadata": {
        "id": "YQNGGRphZY_B"
      },
      "source": [
        "##Model1 using RandomForestClassifier\n",
        "\n",
        "---\n",
        "\n"
      ]
    },
    {
      "cell_type": "code",
      "execution_count": 27,
      "metadata": {
        "colab": {
          "base_uri": "https://localhost:8080/"
        },
        "id": "dkaLFuXwY6XQ",
        "outputId": "6ed75d35-7282-484e-c6e4-489be1c84aee"
      },
      "outputs": [
        {
          "output_type": "stream",
          "name": "stdout",
          "text": [
            "Accuracy score of the training data :  1.0\n",
            "Accuracy score of the test data :  0.7909090909090909\n"
          ]
        }
      ],
      "source": [
        "from sklearn.metrics import accuracy_score, classification_report\n",
        "from sklearn.ensemble import RandomForestClassifier\n",
        "\n",
        "classifier = RandomForestClassifier()\n",
        "\n",
        "#training Classifier\n",
        "classifier.fit(X_train, Y_train)\n",
        "\n",
        "# accuracy score on the training data\n",
        "X_train_prediction = classifier.predict(X_train)\n",
        "training_data_accuracy = accuracy_score(X_train_prediction, Y_train)\n",
        "\n",
        "print('Accuracy score of the training data : ', training_data_accuracy)\n",
        "\n",
        "\n",
        "#accuracy score on the test data\n",
        "X_test_prediction = classifier.predict(X_test)\n",
        "test_data_accuracy = accuracy_score(X_test_prediction, Y_test)\n",
        "\n",
        "print('Accuracy score of the test data : ', test_data_accuracy)\n"
      ]
    },
    {
      "cell_type": "markdown",
      "metadata": {
        "id": "YAf637mYKWxr"
      },
      "source": [
        "##Model2 using KNeighborsClassifier\n",
        "\n",
        "---\n",
        "\n"
      ]
    },
    {
      "cell_type": "code",
      "execution_count": 28,
      "metadata": {
        "colab": {
          "base_uri": "https://localhost:8080/"
        },
        "id": "TGXMofz9KV9J",
        "outputId": "9380ba5a-e5c7-48d0-b6a8-b815749d25d0"
      },
      "outputs": [
        {
          "output_type": "stream",
          "name": "stdout",
          "text": [
            "Accuracy score of the training data :  0.8363636363636363\n",
            "Accuracy score of the test data :  0.7545454545454545\n"
          ]
        }
      ],
      "source": [
        "from sklearn.metrics import accuracy_score, classification_report\n",
        "from sklearn.neighbors import KNeighborsClassifier\n",
        "\n",
        "classifier =  KNeighborsClassifier()\n",
        "\n",
        "#training Classifier\n",
        "classifier.fit(X_train, Y_train)\n",
        "\n",
        "# accuracy score on the training data\n",
        "X_train_prediction = classifier.predict(X_train)\n",
        "training_data_accuracy = accuracy_score(X_train_prediction, Y_train)\n",
        "\n",
        "print('Accuracy score of the training data : ', training_data_accuracy)\n",
        "\n",
        "\n",
        "#accuracy score on the test data\n",
        "X_test_prediction = classifier.predict(X_test)\n",
        "test_data_accuracy = accuracy_score(X_test_prediction, Y_test)\n",
        "\n",
        "print('Accuracy score of the test data : ', test_data_accuracy)"
      ]
    },
    {
      "cell_type": "markdown",
      "metadata": {
        "id": "j0rhK_AtLd1O"
      },
      "source": [
        "##Model3 using DecisionTreeClassifier"
      ]
    },
    {
      "cell_type": "code",
      "execution_count": 29,
      "metadata": {
        "colab": {
          "base_uri": "https://localhost:8080/"
        },
        "id": "6ZMwoGVvMYHa",
        "outputId": "ecab0348-9fda-4364-abbe-78a20cdb4c81"
      },
      "outputs": [
        {
          "output_type": "stream",
          "name": "stdout",
          "text": [
            "Accuracy score of the training data :  1.0\n",
            "Accuracy score of the test data :  0.7\n"
          ]
        }
      ],
      "source": [
        "from sklearn.metrics import accuracy_score, classification_report\n",
        "from sklearn.tree import DecisionTreeClassifier\n",
        "\n",
        "classifier =  DecisionTreeClassifier()\n",
        "\n",
        "#training Classifier\n",
        "classifier.fit(X_train, Y_train)\n",
        "\n",
        "# accuracy score on the training data\n",
        "X_train_prediction = classifier.predict(X_train)\n",
        "training_data_accuracy = accuracy_score(X_train_prediction, Y_train)\n",
        "\n",
        "print('Accuracy score of the training data : ', training_data_accuracy)\n",
        "\n",
        "\n",
        "#accuracy score on the test data\n",
        "X_test_prediction = classifier.predict(X_test)\n",
        "test_data_accuracy = accuracy_score(X_test_prediction, Y_test)\n",
        "\n",
        "print('Accuracy score of the test data : ', test_data_accuracy)"
      ]
    },
    {
      "cell_type": "markdown",
      "metadata": {
        "id": "LGjE7S_jNeEh"
      },
      "source": [
        "##Model4 using GradientBoostingClassifier"
      ]
    },
    {
      "cell_type": "code",
      "execution_count": 30,
      "metadata": {
        "colab": {
          "base_uri": "https://localhost:8080/"
        },
        "id": "1SUOUQR2Nlyq",
        "outputId": "2baa94da-ad43-41ce-9be7-3f7e3812daa2"
      },
      "outputs": [
        {
          "output_type": "stream",
          "name": "stdout",
          "text": [
            "Accuracy score of the training data :  0.9954545454545455\n",
            "Accuracy score of the test data :  0.7727272727272727\n"
          ]
        }
      ],
      "source": [
        "from sklearn.metrics import accuracy_score, classification_report\n",
        "from sklearn.ensemble import GradientBoostingClassifier\n",
        "\n",
        "classifier =  GradientBoostingClassifier()\n",
        "\n",
        "#training Classifier\n",
        "classifier.fit(X_train, Y_train)\n",
        "\n",
        "# accuracy score on the training data\n",
        "X_train_prediction = classifier.predict(X_train)\n",
        "training_data_accuracy = accuracy_score(X_train_prediction, Y_train)\n",
        "\n",
        "print('Accuracy score of the training data : ', training_data_accuracy)\n",
        "\n",
        "\n",
        "#accuracy score on the test data\n",
        "X_test_prediction = classifier.predict(X_test)\n",
        "test_data_accuracy = accuracy_score(X_test_prediction, Y_test)\n",
        "\n",
        "print('Accuracy score of the test data : ', test_data_accuracy)"
      ]
    },
    {
      "cell_type": "markdown",
      "metadata": {
        "id": "r33zLWQHvEoy"
      },
      "source": [
        "##Model5 using svm"
      ]
    },
    {
      "cell_type": "code",
      "execution_count": 31,
      "metadata": {
        "colab": {
          "base_uri": "https://localhost:8080/"
        },
        "id": "zNKwfQdiv5sP",
        "outputId": "e19770c1-e370-400d-afac-0863d900fbfd"
      },
      "outputs": [
        {
          "output_type": "stream",
          "name": "stdout",
          "text": [
            "Accuracy score of the training data :  0.7659090909090909\n",
            "Accuracy score of the test data :  0.7636363636363637\n"
          ]
        }
      ],
      "source": [
        "from sklearn.metrics import accuracy_score, classification_report\n",
        "from sklearn.svm import SVC\n",
        "\n",
        "classifier =  SVC()\n",
        "\n",
        "#training Classifier\n",
        "classifier.fit(X_train, Y_train)\n",
        "\n",
        "# accuracy score on the training data\n",
        "X_train_prediction = classifier.predict(X_train)\n",
        "training_data_accuracy = accuracy_score(X_train_prediction, Y_train)\n",
        "\n",
        "print('Accuracy score of the training data : ', training_data_accuracy)\n",
        "\n",
        "\n",
        "#accuracy score on the test data\n",
        "X_test_prediction = classifier.predict(X_test)\n",
        "test_data_accuracy = accuracy_score(X_test_prediction, Y_test)\n",
        "\n",
        "print('Accuracy score of the test data : ', test_data_accuracy)"
      ]
    },
    {
      "cell_type": "markdown",
      "metadata": {
        "id": "ujZdjL58yq2h"
      },
      "source": [
        "##Model6 using GaussianNB"
      ]
    },
    {
      "cell_type": "code",
      "execution_count": 32,
      "metadata": {
        "colab": {
          "base_uri": "https://localhost:8080/"
        },
        "id": "xOdfi3PYyqeb",
        "outputId": "7acfc309-4c59-4b14-a024-c108534dbf85"
      },
      "outputs": [
        {
          "output_type": "stream",
          "name": "stdout",
          "text": [
            "Accuracy score of the training data :  0.32954545454545453\n",
            "Accuracy score of the test data :  0.35454545454545455\n"
          ]
        }
      ],
      "source": [
        "from sklearn.metrics import accuracy_score, classification_report\n",
        "from sklearn.naive_bayes import GaussianNB\n",
        "\n",
        "classifier =  GaussianNB()\n",
        "\n",
        "#training Classifier\n",
        "classifier.fit(X_train, Y_train)\n",
        "\n",
        "# accuracy score on the training data\n",
        "X_train_prediction = classifier.predict(X_train)\n",
        "training_data_accuracy = accuracy_score(X_train_prediction, Y_train)\n",
        "\n",
        "print('Accuracy score of the training data : ', training_data_accuracy)\n",
        "\n",
        "\n",
        "#accuracy score on the test data\n",
        "X_test_prediction = classifier.predict(X_test)\n",
        "test_data_accuracy = accuracy_score(X_test_prediction, Y_test)\n",
        "\n",
        "print('Accuracy score of the test data : ', test_data_accuracy)"
      ]
    },
    {
      "cell_type": "markdown",
      "metadata": {
        "id": "03ujSDWhz-cF"
      },
      "source": [
        "##Model7 using LogisticRegression"
      ]
    },
    {
      "cell_type": "code",
      "execution_count": 33,
      "metadata": {
        "colab": {
          "base_uri": "https://localhost:8080/"
        },
        "id": "DATRvWZP0H2o",
        "outputId": "826d6be0-df5d-4fe4-cb56-da378b4200f3"
      },
      "outputs": [
        {
          "output_type": "stream",
          "name": "stdout",
          "text": [
            "Accuracy score of the training data :  0.75\n",
            "Accuracy score of the test data :  0.7818181818181819\n"
          ]
        }
      ],
      "source": [
        "from sklearn.metrics import accuracy_score, classification_report\n",
        "from sklearn.linear_model import LogisticRegression\n",
        "\n",
        "classifier =  LogisticRegression()\n",
        "\n",
        "#training Classifier\n",
        "classifier.fit(X_train, Y_train)\n",
        "\n",
        "# accuracy score on the training data\n",
        "X_train_prediction = classifier.predict(X_train)\n",
        "training_data_accuracy = accuracy_score(X_train_prediction, Y_train)\n",
        "\n",
        "print('Accuracy score of the training data : ', training_data_accuracy)\n",
        "\n",
        "\n",
        "#accuracy score on the test data\n",
        "X_test_prediction = classifier.predict(X_test)\n",
        "test_data_accuracy = accuracy_score(X_test_prediction, Y_test)\n",
        "\n",
        "print('Accuracy score of the test data : ', test_data_accuracy)"
      ]
    },
    {
      "cell_type": "markdown",
      "metadata": {
        "id": "1Mw13Hju9e3f"
      },
      "source": [
        "##Grid Search\n"
      ]
    },
    {
      "cell_type": "code",
      "execution_count": 34,
      "metadata": {
        "colab": {
          "base_uri": "https://localhost:8080/",
          "height": 731
        },
        "id": "yo1xrFn79ek9",
        "outputId": "37686344-6d51-44d6-f722-c3bf52138374"
      },
      "outputs": [
        {
          "output_type": "stream",
          "name": "stdout",
          "text": [
            "                model  best_score                              best_params\n",
            "0       random_forest    0.774545                        {'max_depth': 31}\n",
            "1           kNeighbor    0.767273                       {'n_neighbors': 4}\n",
            "2       decision_tree    0.760000  {'max_depth': 1, 'min_samples_leaf': 1}\n",
            "3   gradient_boosting    0.760000                      {'n_estimators': 1}\n",
            "4                 SVC    0.760000               {'C': 1, 'gamma': 'scale'}\n",
            "5          GaussianNB    0.345455                                       {}\n",
            "6  LogisticRegression    0.738182          {'C': 1, 'solver': 'newton-cg'}\n"
          ]
        },
        {
          "output_type": "display_data",
          "data": {
            "text/plain": [
              "<Figure size 1200x800 with 1 Axes>"
            ],
            "image/png": "[encoded data removed]"
          },
          "metadata": {}
        }
      ],
      "source": [
        "\n",
        "\n",
        "\n",
        "\n",
        "\n",
        "\n",
        "\n",
        "\n",
        "\n",
        "\n",
        "import matplotlib.pyplot as plt\n",
        "import numpy as np\n",
        "import pandas as pd\n",
        "from sklearn.ensemble import RandomForestClassifier\n",
        "from sklearn.neighbors import KNeighborsClassifier\n",
        "from sklearn.tree import DecisionTreeClassifier\n",
        "from sklearn.ensemble import GradientBoostingClassifier\n",
        "from sklearn.svm import SVC\n",
        "from sklearn.naive_bayes import GaussianNB\n",
        "from sklearn.linear_model import LogisticRegression\n",
        "\n",
        "from sklearn.preprocessing import StandardScaler\n",
        "from sklearn.model_selection import KFold , cross_val_score, GridSearchCV\n",
        "\n",
        "# define kfold\n",
        "K = 10\n",
        "\n",
        "models = {\n",
        "    \"random_forest\" : {\n",
        "        \"model\":RandomForestClassifier(),\n",
        "        \"params\":{\n",
        "            # \"bootstrap\": [True, False],\n",
        "            \"max_depth\": range(20,40),\n",
        "            # \"max_features\": [\"auto\", \"sqrt\"],\n",
        "            # \"min_samples_leaf\": range(1,10),\n",
        "            # \"min_samples_split\": range(1,10),\n",
        "            # \"n_estimators\": range(0, 1000, 25)\n",
        "        }\n",
        "    },\n",
        "    \"kNeighbor\": {\n",
        "        \"model\":KNeighborsClassifier(),\n",
        "        \"params\":{\n",
        "            'n_neighbors': range(1,30),\n",
        "            # 'leaf_size': range(1,50),\n",
        "            # 'p': (1,2),\n",
        "            # 'weights': ('uniform', 'distance'),\n",
        "            # 'metric': ('minkowski', 'chebyshev'),\n",
        "        }\n",
        "    },\n",
        "    \"decision_tree\": {\n",
        "        \"model\":DecisionTreeClassifier(),\n",
        "        \"params\":{\n",
        "            # \"criterion\": [\"gini\", \"entrophy\"],\n",
        "            \"max_depth\": range(1,20),\n",
        "            # \"min_samples_split\": range(1,10),\n",
        "            \"min_samples_leaf\": range(1,5),\n",
        "        }\n",
        "    },\n",
        "    \"gradient_boosting\": {\n",
        "        \"model\":GradientBoostingClassifier(),\n",
        "        \"params\":{\n",
        "            \"n_estimators\": range(1,10),\n",
        "            # \"max_depth\":range(1,10),\n",
        "            # \"learning_rate\":[0.05, 0.1, 0.2, 0.3,0.4,0.5]\n",
        "        }\n",
        "    },\n",
        "    \"SVC\": {\n",
        "        \"model\": SVC(),\n",
        "        \"params\":{\n",
        "            \"gamma\": [\"scale\", \"auto\"],\n",
        "            \"C\": range(1,10),\n",
        "        }\n",
        "    },\n",
        "    \"GaussianNB\": {\n",
        "        \"model\": GaussianNB(),\n",
        "        \"params\":{\n",
        "\n",
        "        }\n",
        "    },\n",
        "    \"LogisticRegression\":{\n",
        "        \"model\": LogisticRegression(),\n",
        "        \"params\":{\n",
        "            \"solver\": [\"newton-cg\", \"lbfgs\", \"sag\", \"saga\"],\n",
        "            \"C\": range(1,10),\n",
        "        }\n",
        "    }\n",
        "}\n",
        "\n",
        "\n",
        "results = []\n",
        "names = []\n",
        "\n",
        "for name, model_param in models.items():\n",
        "\n",
        "    # use Kfold\n",
        "    kf = KFold(n_splits=K)\n",
        "    # use cross validation\n",
        "    search = GridSearchCV(estimator=model_param[\"model\"], param_grid=model_param[\"params\"], cv= kf,n_jobs=-1)\n",
        "    search.fit(X, Y)\n",
        "    results.append({\n",
        "        \"model\": name,\n",
        "        \"best_score\": search.best_score_,\n",
        "        \"best_params\": search.best_params_\n",
        "    })\n",
        "\n",
        "\n",
        "#report\n",
        "\n",
        "result_df = pd.DataFrame(results, columns=[\"model\", \"best_score\", \"best_params\"])\n",
        "\n",
        "print(result_df)\n",
        "\n",
        "plt.figure(figsize=(12,8))\n",
        "plt.bar(result_df[\"model\"],result_df[\"best_score\"], width=0.4)\n",
        "plt.show()"
      ]
    },
    {
      "cell_type": "markdown",
      "metadata": {
        "id": "ojY3PQTr9Gl2"
      },
      "source": [
        "##Model1 using RandomForestClassifier with k fold\n",
        "\n"
      ]
    },
    {
      "cell_type": "code",
      "execution_count": 35,
      "metadata": {
        "colab": {
          "base_uri": "https://localhost:8080/"
        },
        "id": "I25BQ5A29VC4",
        "outputId": "4473f59a-6384-45a6-aee3-ad79143151ee"
      },
      "outputs": [
        {
          "output_type": "stream",
          "name": "stdout",
          "text": [
            "Accuracy score of each fold:  [0.50909091 0.92727273 0.65454545 0.76363636 0.63636364 0.89090909\n",
            " 0.96363636 0.90909091 0.65454545 0.8       ]\n",
            "Mean accuracy score:  0.7709090909090909\n"
          ]
        }
      ],
      "source": [
        "from sklearn.metrics import accuracy_score, classification_report\n",
        "from sklearn.ensemble import RandomForestClassifier\n",
        "\n",
        "# implementing k-fold cross validation\n",
        "k = 10\n",
        "k_fold = KFold(n_splits = k)\n",
        "\n",
        "classifier = RandomForestClassifier(max_depth = 29)\n",
        "\n",
        "classifier.fit(X, Y)\n",
        "\n",
        "# finding accuracy scores using cross_val_score methods\n",
        "scores = cross_val_score(classifier, X, Y, cv = k_fold)\n",
        "\n",
        "# calculating mean accuracy score\n",
        "mean_acc_score = sum(scores) / len(scores)\n",
        "\n",
        "print(\"Accuracy score of each fold: \", scores)\n",
        "print(\"Mean accuracy score: \", mean_acc_score)\n"
      ]
    },
    {
      "cell_type": "code",
      "execution_count": 36,
      "metadata": {
        "colab": {
          "base_uri": "https://localhost:8080/",
          "height": 777
        },
        "id": "k0W4yZ1BI_Ji",
        "outputId": "074f91c6-358a-45a4-a52f-fd18d96ab029"
      },
      "outputs": [
        {
          "output_type": "stream",
          "name": "stdout",
          "text": [
            "Ideal score:  0.7818\n",
            "Folds=2, accuracy=0.7691 (0.76,0.7782)\n",
            "Folds=3, accuracy=0.7745 (0.7541,0.7935)\n",
            "Folds=4, accuracy=0.7727 (0.7445,0.7899)\n",
            "Folds=5, accuracy=0.78 (0.7636,0.8)\n",
            "Folds=6, accuracy=0.7782 (0.7363,0.8132)\n",
            "Folds=7, accuracy=0.7817 (0.7215,0.8481)\n",
            "Folds=8, accuracy=0.7819 (0.7391,0.8116)\n",
            "Folds=9, accuracy=0.7836 (0.7377,0.8226)\n",
            "Folds=10, accuracy=0.7764 (0.7273,0.8182)\n",
            "Folds=11, accuracy=0.78 (0.7,0.86)\n",
            "Folds=12, accuracy=0.7764 (0.6739,0.8478)\n",
            "Folds=13, accuracy=0.778 (0.6667,0.8333)\n",
            "Folds=14, accuracy=0.7891 (0.7436,0.8462)\n",
            "Folds=15, accuracy=0.7816 (0.7222,0.8649)\n",
            "Folds=16, accuracy=0.7835 (0.6765,0.8286)\n",
            "Folds=17, accuracy=0.7762 (0.6875,0.9062)\n",
            "Folds=18, accuracy=0.7725 (0.6667,0.9032)\n",
            "Folds=19, accuracy=0.7783 (0.6897,0.8276)\n",
            "Folds=20, accuracy=0.7706 (0.6296,0.8571)\n"
          ]
        },
        {
          "output_type": "display_data",
          "data": {
            "text/plain": [
              "<Figure size 640x480 with 1 Axes>"
            ],
            "image/png": "[encoded data removed]"
          },
          "metadata": {}
        }
      ],
      "source": [
        "# perform kfold cross-validation sensitivity analysis\n",
        "\n",
        "from numpy import mean\n",
        "from sklearn.datasets import make_classification\n",
        "from sklearn.model_selection import LeaveOneOut, KFold, cross_val_score\n",
        "from sklearn.ensemble import RandomForestClassifier\n",
        "from matplotlib import pyplot\n",
        "\n",
        "  # getting the model object to be used for evaluation\n",
        "def get_model():\n",
        "    model = RandomForestClassifier(max_depth = 29)\n",
        "    return model\n",
        "\n",
        "# evaluating the model performance using a test condition\n",
        "def evaluate_model_performance(cv_method):\n",
        "\n",
        "    # getting the model\n",
        "    model = get_model()\n",
        "    # evaluating the model\n",
        "    scores = cross_val_score(model, X, Y, scoring='accuracy', cv=cv_method, n_jobs=-1)\n",
        "    # returning the mean, minimum and maximum scores\n",
        "    return round(mean(scores), 4), round(scores.min(), 4), round(scores.max(), 4)\n",
        "\n",
        "# calculating the ideal test condition\n",
        "ideal_score, _, _ = evaluate_model_performance(LeaveOneOut())\n",
        "print(\"Ideal score: \", ideal_score)\n",
        "\n",
        "# defining the number of folds to test\n",
        "folds = range(2, 21)\n",
        "\n",
        "# record mean and min/max of each set of results\n",
        "means, mins, maxs = list(),list(),list()\n",
        "\n",
        "# calculation accuracy for each k value in the defined range\n",
        "for k in folds:\n",
        "    # defining the test condition\n",
        "    cv_method = KFold(n_splits=k, shuffle=True, random_state=10)\n",
        "    # evaluating the k value\n",
        "    mean_k, min_k, max_k = evaluate_model_performance(cv_method)\n",
        "    # printing the performance of each k value\n",
        "    print(f\"Folds={k}, accuracy={mean_k} ({min_k},{max_k})\")\n",
        "    # store mean accuracy\n",
        "    means.append(mean_k)\n",
        "    # store min and max relative to the mean\n",
        "    mins.append(mean_k - min_k)\n",
        "    maxs.append(max_k - mean_k)\n",
        "\n",
        "# line plot of k mean values with min/max error bars\n",
        "pyplot.errorbar(folds, means, yerr=[mins, maxs], fmt='o')\n",
        "# plot the ideal case in a separate color\n",
        "pyplot.plot(folds, [ideal_score for _ in range(len(folds))], color='r')\n",
        "# show the plot\n",
        "pyplot.show()"
      ]
    },
    {
      "cell_type": "markdown",
      "source": [
        "##Random Forest Hyperparameters"
      ],
      "metadata": {
        "id": "omb3w8pVGHiW"
      }
    },
    {
      "cell_type": "markdown",
      "source": [
        "####Number of Samples"
      ],
      "metadata": {
        "id": "FayvpI5dK45L"
      }
    },
    {
      "cell_type": "code",
      "source": [
        "# explore random forest bootstrap sample size on performance\n",
        "from numpy import mean\n",
        "from numpy import std\n",
        "from numpy import arange\n",
        "from sklearn.datasets import make_classification\n",
        "from sklearn.model_selection import cross_val_score\n",
        "from sklearn.model_selection import RepeatedStratifiedKFold\n",
        "from sklearn.ensemble import RandomForestClassifier\n",
        "from matplotlib import pyplot\n",
        "\n",
        "# get a list of models to evaluate\n",
        "def get_models():\n",
        " models = dict()\n",
        " # explore ratios from 10% to 100% in 10% increments\n",
        " for i in arange(0.1, 1.1, 0.1):\n",
        "  key = '%.1f' % i\n",
        "  # set max_samples=None to use 100%\n",
        "  if i == 1.0:\n",
        "    i = None\n",
        "  models[key] = RandomForestClassifier(max_samples=i)\n",
        " return models\n",
        "\n",
        "# evaluate a given model using cross-validation\n",
        "def evaluate_model(model, X, Y):\n",
        " # define the evaluation procedure\n",
        " cv = RepeatedStratifiedKFold(n_splits=11, n_repeats=3, random_state=1)\n",
        " # evaluate the model and collect the results\n",
        " scores = cross_val_score(model, X, Y, scoring='accuracy', cv=cv, n_jobs=-1)\n",
        " return scores\n",
        "\n",
        "# get the models to evaluate\n",
        "models = get_models()\n",
        "# evaluate the models and store results\n",
        "results, names = list(), list()\n",
        "for name, model in models.items():\n",
        " # evaluate the model\n",
        " scores = evaluate_model(model, X, Y)\n",
        " # store the results\n",
        " results.append(scores)\n",
        " names.append(name)\n",
        " # summarize the performance along the way\n",
        " print('>%s %.3f (%.3f)' % (name, mean(scores), std(scores)))\n",
        "# plot model performance for comparison\n",
        "pyplot.boxplot(results, labels=names, showmeans=True)\n",
        "pyplot.show()"
      ],
      "metadata": {
        "colab": {
          "base_uri": "https://localhost:8080/",
          "height": 604
        },
        "id": "XXNvsk6rGyVk",
        "outputId": "86d2c0df-b12a-4f37-95f4-902fdd674b94"
      },
      "execution_count": 37,
      "outputs": [
        {
          "output_type": "stream",
          "name": "stdout",
          "text": [
            ">0.1 0.758 (0.023)\n",
            ">0.2 0.772 (0.031)\n",
            ">0.3 0.775 (0.039)\n",
            ">0.4 0.779 (0.039)\n",
            ">0.5 0.776 (0.050)\n",
            ">0.6 0.773 (0.046)\n",
            ">0.7 0.781 (0.041)\n",
            ">0.8 0.780 (0.048)\n",
            ">0.9 0.775 (0.044)\n",
            ">1.0 0.778 (0.046)\n"
          ]
        },
        {
          "output_type": "display_data",
          "data": {
            "text/plain": [
              "<Figure size 640x480 with 1 Axes>"
            ],
            "image/png": "[encoded data removed]"
          },
          "metadata": {}
        }
      ]
    },
    {
      "cell_type": "markdown",
      "source": [
        "####Number of features"
      ],
      "metadata": {
        "id": "MSlPFetyLvSw"
      }
    },
    {
      "cell_type": "code",
      "source": [
        "# explore random forest number of features effect on performance\n",
        "from numpy import mean\n",
        "from numpy import std\n",
        "from sklearn.datasets import make_classification\n",
        "from sklearn.model_selection import cross_val_score\n",
        "from sklearn.model_selection import RepeatedStratifiedKFold\n",
        "from sklearn.ensemble import RandomForestClassifier\n",
        "from matplotlib import pyplot\n",
        "\n",
        "# get a list of models to evaluate\n",
        "def get_models():\n",
        " models = dict()\n",
        " # explore number of features from 1 to 11\n",
        " for i in range(1,12):\n",
        "  models[str(i)] = RandomForestClassifier(max_features=i)\n",
        " return models\n",
        "\n",
        "# evaluate a given model using cross-validation\n",
        "def evaluate_model(model, X, Y):\n",
        " # define the evaluation procedure\n",
        " cv = RepeatedStratifiedKFold(n_splits=11, n_repeats=3, random_state=1)\n",
        " # evaluate the model and collect the results\n",
        " scores = cross_val_score(model, X, Y, scoring='accuracy', cv=cv, n_jobs=-1)\n",
        " return scores\n",
        "\n",
        "\n",
        "# get the models to evaluate\n",
        "models = get_models()\n",
        "# evaluate the models and store results\n",
        "results, names = list(), list()\n",
        "for name, model in models.items():\n",
        " # evaluate the model\n",
        " scores = evaluate_model(model, X, Y)\n",
        " # store the results\n",
        " results.append(scores)\n",
        " names.append(name)\n",
        " # summarize the performance along the way\n",
        " print('>%s %.3f (%.3f)' % (name, mean(scores), std(scores)))\n",
        "# plot model performance for comparison\n",
        "pyplot.boxplot(results, labels=names, showmeans=True)\n",
        "pyplot.show()"
      ],
      "metadata": {
        "colab": {
          "base_uri": "https://localhost:8080/",
          "height": 621
        },
        "id": "udwxcbBKLbVm",
        "outputId": "c99b7574-41e5-4024-a85f-b9cc24db42f4"
      },
      "execution_count": 38,
      "outputs": [
        {
          "output_type": "stream",
          "name": "stdout",
          "text": [
            ">1 0.787 (0.039)\n",
            ">2 0.782 (0.044)\n",
            ">3 0.777 (0.044)\n",
            ">4 0.775 (0.045)\n",
            ">5 0.767 (0.055)\n",
            ">6 0.778 (0.058)\n",
            ">7 0.771 (0.050)\n",
            ">8 0.772 (0.053)\n",
            ">9 0.767 (0.060)\n",
            ">10 0.768 (0.055)\n",
            ">11 0.767 (0.054)\n"
          ]
        },
        {
          "output_type": "display_data",
          "data": {
            "text/plain": [
              "<Figure size 640x480 with 1 Axes>"
            ],
            "image/png": "[encoded data removed]"
          },
          "metadata": {}
        }
      ]
    },
    {
      "cell_type": "markdown",
      "source": [
        "####Number of Trees"
      ],
      "metadata": {
        "id": "AgQ6dyS5L3Fu"
      }
    },
    {
      "cell_type": "code",
      "source": [
        "# explore random forest number of trees effect on performance\n",
        "from numpy import mean\n",
        "from numpy import std\n",
        "from sklearn.datasets import make_classification\n",
        "from sklearn.model_selection import cross_val_score\n",
        "from sklearn.model_selection import RepeatedStratifiedKFold\n",
        "from sklearn.ensemble import RandomForestClassifier\n",
        "from matplotlib import pyplot\n",
        "\n",
        "\n",
        "# get a list of models to evaluate\n",
        "def get_models():\n",
        " models = dict()\n",
        " # define number of trees to consider\n",
        " n_trees = [10, 20, 30, 50, 100, 200, 300, 400, 500, 600, 700, 800, 900, 1000]\n",
        " for n in n_trees:\n",
        "  models[str(n)] = RandomForestClassifier(n_estimators=n)\n",
        " return models\n",
        "\n",
        "# evaluate a given model using cross-validation\n",
        "def evaluate_model(model, X, y):\n",
        " # define the evaluation procedure\n",
        " cv = RepeatedStratifiedKFold(n_splits=11, n_repeats=3, random_state=1)\n",
        " # evaluate the model and collect the results\n",
        " scores = cross_val_score(model, X, y, scoring='accuracy', cv=cv, n_jobs=-1)\n",
        " return scores\n",
        "\n",
        "\n",
        "# get the models to evaluate\n",
        "models = get_models()\n",
        "# evaluate the models and store results\n",
        "results, names = list(), list()\n",
        "for name, model in models.items():\n",
        " # evaluate the model\n",
        " scores = evaluate_model(model, X, Y)\n",
        " # store the results\n",
        " results.append(scores)\n",
        " names.append(name)\n",
        " # summarize the performance along the way\n",
        " print('>%s %.3f (%.3f)' % (name, mean(scores), std(scores)))\n",
        "# plot model performance for comparison\n",
        "pyplot.boxplot(results, labels=names, showmeans=True)\n",
        "pyplot.show()"
      ],
      "metadata": {
        "colab": {
          "base_uri": "https://localhost:8080/",
          "height": 673
        },
        "id": "_wiKM-heMAv2",
        "outputId": "c9a6f791-f300-422e-d753-194abc8e5728"
      },
      "execution_count": 39,
      "outputs": [
        {
          "output_type": "stream",
          "name": "stdout",
          "text": [
            ">10 0.768 (0.047)\n",
            ">20 0.782 (0.041)\n",
            ">30 0.767 (0.051)\n",
            ">50 0.776 (0.058)\n",
            ">100 0.775 (0.051)\n",
            ">200 0.783 (0.050)\n",
            ">300 0.782 (0.041)\n",
            ">400 0.775 (0.052)\n",
            ">500 0.779 (0.047)\n",
            ">600 0.778 (0.049)\n",
            ">700 0.780 (0.049)\n",
            ">800 0.776 (0.047)\n",
            ">900 0.775 (0.044)\n",
            ">1000 0.781 (0.047)\n"
          ]
        },
        {
          "output_type": "display_data",
          "data": {
            "text/plain": [
              "<Figure size 640x480 with 1 Axes>"
            ],
            "image/png": "[encoded data removed]"
          },
          "metadata": {}
        }
      ]
    },
    {
      "cell_type": "markdown",
      "metadata": {
        "id": "CuvsqugaCC-d"
      },
      "source": [
        "##Model2 using KNeighborsClassifier with cross validation k fold"
      ]
    },
    {
      "cell_type": "code",
      "execution_count": 40,
      "metadata": {
        "colab": {
          "base_uri": "https://localhost:8080/"
        },
        "id": "taXh2QOrCCq9",
        "outputId": "44e593c5-4142-437f-9f75-2fbd74ea0df0"
      },
      "outputs": [
        {
          "output_type": "stream",
          "name": "stdout",
          "text": [
            "Accuracy score of each fold:  [0.4        0.92727273 0.69090909 0.78181818 0.56363636 0.83636364\n",
            " 0.96363636 0.92727273 0.78181818 0.8       ]\n",
            "Mean accuracy score:  0.7672727272727272\n"
          ]
        }
      ],
      "source": [
        "from sklearn.metrics import accuracy_score, classification_report\n",
        "from sklearn.neighbors import KNeighborsClassifier\n",
        "\n",
        "# implementing k-fold cross validation\n",
        "k = 10\n",
        "k_fold = KFold(n_splits = k)\n",
        "\n",
        "classifier = KNeighborsClassifier(n_neighbors = 4)\n",
        "\n",
        "classifier.fit(X, Y)\n",
        "\n",
        "# finding accuracy scores using cross_val_score methods\n",
        "scores = cross_val_score(classifier, X, Y, cv = k_fold)\n",
        "\n",
        "# calculating mean accuracy score\n",
        "mean_acc_score = sum(scores) / len(scores)\n",
        "\n",
        "print(\"Accuracy score of each fold: \", scores)\n",
        "print(\"Mean accuracy score: \", mean_acc_score)\n"
      ]
    },
    {
      "cell_type": "code",
      "execution_count": 41,
      "metadata": {
        "colab": {
          "base_uri": "https://localhost:8080/",
          "height": 777
        },
        "id": "Qww2E4arK2nB",
        "outputId": "60c4b1d4-f665-4257-ea17-fb46499e449f"
      },
      "outputs": [
        {
          "output_type": "stream",
          "name": "stdout",
          "text": [
            "Ideal score:  0.7782\n",
            "Folds=2, accuracy=0.7491 (0.7345,0.7636)\n",
            "Folds=3, accuracy=0.7764 (0.7541,0.8087)\n",
            "Folds=4, accuracy=0.7764 (0.7445,0.8248)\n",
            "Folds=5, accuracy=0.7618 (0.7455,0.8)\n",
            "Folds=6, accuracy=0.7764 (0.75,0.8132)\n",
            "Folds=7, accuracy=0.7673 (0.7179,0.7949)\n",
            "Folds=8, accuracy=0.7673 (0.7246,0.8261)\n",
            "Folds=9, accuracy=0.7782 (0.7541,0.8033)\n",
            "Folds=10, accuracy=0.7727 (0.6909,0.8182)\n",
            "Folds=11, accuracy=0.78 (0.72,0.84)\n",
            "Folds=12, accuracy=0.7783 (0.7174,0.8261)\n",
            "Folds=13, accuracy=0.7744 (0.7143,0.8333)\n",
            "Folds=14, accuracy=0.7799 (0.7179,0.8205)\n",
            "Folds=15, accuracy=0.7746 (0.6757,0.8378)\n",
            "Folds=16, accuracy=0.7675 (0.6571,0.8571)\n",
            "Folds=17, accuracy=0.7745 (0.6061,0.9394)\n",
            "Folds=18, accuracy=0.7762 (0.6667,0.871)\n",
            "Folds=19, accuracy=0.7764 (0.6897,0.8621)\n",
            "Folds=20, accuracy=0.78 (0.6786,0.8929)\n"
          ]
        },
        {
          "output_type": "display_data",
          "data": {
            "text/plain": [
              "<Figure size 640x480 with 1 Axes>"
            ],
            "image/png": "[encoded data removed]"
          },
          "metadata": {}
        }
      ],
      "source": [
        "# perform kfold cross-validation sensitivity analysis\n",
        "\n",
        "from numpy import mean\n",
        "from sklearn.datasets import make_classification\n",
        "from sklearn.model_selection import LeaveOneOut, KFold, cross_val_score\n",
        "from sklearn.neighbors import KNeighborsClassifier\n",
        "from matplotlib import pyplot\n",
        "\n",
        "  # getting the model object to be used for evaluation\n",
        "def get_model():\n",
        "    model = KNeighborsClassifier(n_neighbors = 4)\n",
        "    return model\n",
        "\n",
        "# evaluating the model performance using a test condition\n",
        "def evaluate_model_performance(cv_method):\n",
        "\n",
        "    # getting the model\n",
        "    model = get_model()\n",
        "    # evaluating the model\n",
        "    scores = cross_val_score(model, X, Y, scoring='accuracy', cv=cv_method, n_jobs=-1)\n",
        "    # returning the mean, minimum and maximum scores\n",
        "    return round(mean(scores), 4), round(scores.min(), 4), round(scores.max(), 4)\n",
        "\n",
        "# calculating the ideal test condition\n",
        "ideal_score, _, _ = evaluate_model_performance(LeaveOneOut())\n",
        "print(\"Ideal score: \", ideal_score)\n",
        "\n",
        "# defining the number of folds to test\n",
        "folds = range(2, 21)\n",
        "\n",
        "# record mean and min/max of each set of results\n",
        "means, mins, maxs = list(),list(),list()\n",
        "\n",
        "# calculation accuracy for each k value in the defined range\n",
        "for k in folds:\n",
        "    # defining the test condition\n",
        "    cv_method = KFold(n_splits=k, shuffle=True, random_state=10)\n",
        "    # evaluating the k value\n",
        "    mean_k, min_k, max_k = evaluate_model_performance(cv_method)\n",
        "    # printing the performance of each k value\n",
        "    print(f\"Folds={k}, accuracy={mean_k} ({min_k},{max_k})\")\n",
        "    # store mean accuracy\n",
        "    means.append(mean_k)\n",
        "    # store min and max relative to the mean\n",
        "    mins.append(mean_k - min_k)\n",
        "    maxs.append(max_k - mean_k)\n",
        "\n",
        "# line plot of k mean values with min/max error bars\n",
        "pyplot.errorbar(folds, means, yerr=[mins, maxs], fmt='o')\n",
        "# plot the ideal case in a separate color\n",
        "pyplot.plot(folds, [ideal_score for _ in range(len(folds))], color='r')\n",
        "# show the plot\n",
        "pyplot.show()"
      ]
    },
    {
      "cell_type": "markdown",
      "metadata": {
        "id": "aCMHTUtbCuVT"
      },
      "source": [
        "##Model3 using DecisionTreeClassifier with k fold"
      ]
    },
    {
      "cell_type": "code",
      "execution_count": 42,
      "metadata": {
        "colab": {
          "base_uri": "https://localhost:8080/"
        },
        "id": "POqYBNbKC1Ft",
        "outputId": "7875c3b5-017b-4aa9-d312-6365cde08722"
      },
      "outputs": [
        {
          "output_type": "stream",
          "name": "stdout",
          "text": [
            "Accuracy score of each fold:  [0.43636364 0.92727273 0.65454545 0.76363636 0.54545455 0.92727273\n",
            " 0.94545455 0.92727273 0.67272727 0.8       ]\n",
            "Mean accuracy score:  0.76\n"
          ]
        }
      ],
      "source": [
        "from sklearn.metrics import accuracy_score, classification_report\n",
        "from sklearn.tree import DecisionTreeClassifier\n",
        "\n",
        "# implementing k-fold cross validation\n",
        "k = 10\n",
        "k_fold = KFold(n_splits = k)\n",
        "\n",
        "classifier = DecisionTreeClassifier(max_depth = 1, min_samples_leaf = 1)\n",
        "\n",
        "classifier.fit(X, Y)\n",
        "\n",
        "# finding accuracy scores using cross_val_score methods\n",
        "scores = cross_val_score(classifier, X, Y, cv = k_fold)\n",
        "\n",
        "# calculating mean accuracy score\n",
        "mean_acc_score = sum(scores) / len(scores)\n",
        "\n",
        "print(\"Accuracy score of each fold: \", scores)\n",
        "print(\"Mean accuracy score: \", mean_acc_score)"
      ]
    },
    {
      "cell_type": "code",
      "execution_count": 43,
      "metadata": {
        "colab": {
          "base_uri": "https://localhost:8080/",
          "height": 777
        },
        "id": "lR61zQsrLNiU",
        "outputId": "412da72a-4a8a-41c5-c414-421394255272"
      },
      "outputs": [
        {
          "output_type": "stream",
          "name": "stdout",
          "text": [
            "Ideal score:  0.76\n",
            "Folds=2, accuracy=0.76 (0.76,0.76)\n",
            "Folds=3, accuracy=0.7599 (0.7158,0.7935)\n",
            "Folds=4, accuracy=0.76 (0.7174,0.8043)\n",
            "Folds=5, accuracy=0.76 (0.7182,0.8182)\n",
            "Folds=6, accuracy=0.76 (0.6957,0.8152)\n",
            "Folds=7, accuracy=0.76 (0.7089,0.7975)\n",
            "Folds=8, accuracy=0.7601 (0.7101,0.8261)\n",
            "Folds=9, accuracy=0.7599 (0.6885,0.8065)\n",
            "Folds=10, accuracy=0.76 (0.6545,0.8545)\n",
            "Folds=11, accuracy=0.76 (0.68,0.86)\n",
            "Folds=12, accuracy=0.7601 (0.6304,0.8261)\n",
            "Folds=13, accuracy=0.7597 (0.5952,0.814)\n",
            "Folds=14, accuracy=0.7597 (0.6667,0.85)\n",
            "Folds=15, accuracy=0.7601 (0.6486,0.8919)\n",
            "Folds=16, accuracy=0.7599 (0.6571,0.8571)\n",
            "Folds=17, accuracy=0.7597 (0.5938,0.9394)\n",
            "Folds=18, accuracy=0.7601 (0.5806,0.8387)\n",
            "Folds=19, accuracy=0.76 (0.6207,0.8621)\n",
            "Folds=20, accuracy=0.76 (0.6071,0.8889)\n"
          ]
        },
        {
          "output_type": "display_data",
          "data": {
            "text/plain": [
              "<Figure size 640x480 with 1 Axes>"
            ],
            "image/png": "[encoded data removed]"
          },
          "metadata": {}
        }
      ],
      "source": [
        "# perform kfold cross-validation sensitivity analysis\n",
        "\n",
        "from numpy import mean\n",
        "from sklearn.datasets import make_classification\n",
        "from sklearn.model_selection import LeaveOneOut, KFold, cross_val_score\n",
        "from sklearn.tree import DecisionTreeClassifier\n",
        "from matplotlib import pyplot\n",
        "\n",
        "  # getting the model object to be used for evaluation\n",
        "def get_model():\n",
        "    model = DecisionTreeClassifier(max_depth = 1, min_samples_leaf = 1)\n",
        "    return model\n",
        "\n",
        "# evaluating the model performance using a test condition\n",
        "def evaluate_model_performance(cv_method):\n",
        "\n",
        "    # getting the model\n",
        "    model = get_model()\n",
        "    # evaluating the model\n",
        "    scores = cross_val_score(model, X, Y, scoring='accuracy', cv=cv_method, n_jobs=-1)\n",
        "    # returning the mean, minimum and maximum scores\n",
        "    return round(mean(scores), 4), round(scores.min(), 4), round(scores.max(), 4)\n",
        "\n",
        "# calculating the ideal test condition\n",
        "ideal_score, _, _ = evaluate_model_performance(LeaveOneOut())\n",
        "print(\"Ideal score: \", ideal_score)\n",
        "\n",
        "# defining the number of folds to test\n",
        "folds = range(2, 21)\n",
        "\n",
        "# record mean and min/max of each set of results\n",
        "means, mins, maxs = list(),list(),list()\n",
        "\n",
        "# calculation accuracy for each k value in the defined range\n",
        "for k in folds:\n",
        "    # defining the test condition\n",
        "    cv_method = KFold(n_splits=k, shuffle=True, random_state=10)\n",
        "    # evaluating the k value\n",
        "    mean_k, min_k, max_k = evaluate_model_performance(cv_method)\n",
        "    # printing the performance of each k value\n",
        "    print(f\"Folds={k}, accuracy={mean_k} ({min_k},{max_k})\")\n",
        "    # store mean accuracy\n",
        "    means.append(mean_k)\n",
        "    # store min and max relative to the mean\n",
        "    mins.append(mean_k - min_k)\n",
        "    maxs.append(max_k - mean_k)\n",
        "\n",
        "# line plot of k mean values with min/max error bars\n",
        "pyplot.errorbar(folds, means, yerr=[mins, maxs], fmt='o')\n",
        "# plot the ideal case in a separate color\n",
        "pyplot.plot(folds, [ideal_score for _ in range(len(folds))], color='r')\n",
        "# show the plot\n",
        "pyplot.show()"
      ]
    },
    {
      "cell_type": "markdown",
      "metadata": {
        "id": "YbW2be4wDaf5"
      },
      "source": [
        "##Model4 using GradientBoostingClassifier with k fold"
      ]
    },
    {
      "cell_type": "code",
      "execution_count": 44,
      "metadata": {
        "colab": {
          "base_uri": "https://localhost:8080/"
        },
        "id": "hoR1MiWJDgGq",
        "outputId": "9c067114-fec2-4bb2-c91c-2fec7813b52d"
      },
      "outputs": [
        {
          "output_type": "stream",
          "name": "stdout",
          "text": [
            "Accuracy score of each fold:  [0.43636364 0.92727273 0.65454545 0.76363636 0.54545455 0.92727273\n",
            " 0.94545455 0.92727273 0.67272727 0.8       ]\n",
            "Mean accuracy score:  0.76\n"
          ]
        }
      ],
      "source": [
        "from sklearn.metrics import accuracy_score, classification_report\n",
        "from sklearn.ensemble import GradientBoostingClassifier\n",
        "\n",
        "# implementing k-fold cross validation\n",
        "k = 10\n",
        "k_fold = KFold(n_splits = k)\n",
        "\n",
        "classifier = GradientBoostingClassifier(n_estimators = 1)\n",
        "\n",
        "classifier.fit(X, Y)\n",
        "\n",
        "# finding accuracy scores using cross_val_score methods\n",
        "scores = cross_val_score(classifier, X, Y, cv = k_fold)\n",
        "\n",
        "# calculating mean accuracy score\n",
        "mean_acc_score = sum(scores) / len(scores)\n",
        "\n",
        "print(\"Accuracy score of each fold: \", scores)\n",
        "print(\"Mean accuracy score: \", mean_acc_score)"
      ]
    },
    {
      "cell_type": "code",
      "execution_count": 45,
      "metadata": {
        "colab": {
          "base_uri": "https://localhost:8080/",
          "height": 777
        },
        "id": "NOfQLVlCLf_g",
        "outputId": "8a450331-80d0-4e26-8310-e6328f1697c6"
      },
      "outputs": [
        {
          "output_type": "stream",
          "name": "stdout",
          "text": [
            "Ideal score:  0.76\n",
            "Folds=2, accuracy=0.76 (0.76,0.76)\n",
            "Folds=3, accuracy=0.7599 (0.7158,0.7935)\n",
            "Folds=4, accuracy=0.76 (0.7174,0.8043)\n",
            "Folds=5, accuracy=0.76 (0.7182,0.8182)\n",
            "Folds=6, accuracy=0.76 (0.6957,0.8152)\n",
            "Folds=7, accuracy=0.76 (0.7089,0.7975)\n",
            "Folds=8, accuracy=0.7601 (0.7101,0.8261)\n",
            "Folds=9, accuracy=0.7599 (0.6885,0.8065)\n",
            "Folds=10, accuracy=0.76 (0.6545,0.8545)\n",
            "Folds=11, accuracy=0.76 (0.68,0.86)\n",
            "Folds=12, accuracy=0.7601 (0.6304,0.8261)\n",
            "Folds=13, accuracy=0.7597 (0.5952,0.814)\n",
            "Folds=14, accuracy=0.7597 (0.6667,0.85)\n",
            "Folds=15, accuracy=0.7601 (0.6486,0.8919)\n",
            "Folds=16, accuracy=0.7599 (0.6571,0.8571)\n",
            "Folds=17, accuracy=0.7597 (0.5938,0.9394)\n",
            "Folds=18, accuracy=0.7601 (0.5806,0.8387)\n",
            "Folds=19, accuracy=0.76 (0.6207,0.8621)\n",
            "Folds=20, accuracy=0.76 (0.6071,0.8889)\n"
          ]
        },
        {
          "output_type": "display_data",
          "data": {
            "text/plain": [
              "<Figure size 640x480 with 1 Axes>"
            ],
            "image/png": "[encoded data removed]"
          },
          "metadata": {}
        }
      ],
      "source": [
        "# perform kfold cross-validation sensitivity analysis\n",
        "\n",
        "from numpy import mean\n",
        "from sklearn.datasets import make_classification\n",
        "from sklearn.model_selection import LeaveOneOut, KFold, cross_val_score\n",
        "from sklearn.ensemble import GradientBoostingClassifier\n",
        "from matplotlib import pyplot\n",
        "\n",
        "  # getting the model object to be used for evaluation\n",
        "def get_model():\n",
        "    model = GradientBoostingClassifier(n_estimators = 1)\n",
        "    return model\n",
        "\n",
        "# evaluating the model performance using a test condition\n",
        "def evaluate_model_performance(cv_method):\n",
        "\n",
        "    # getting the model\n",
        "    model = get_model()\n",
        "    # evaluating the model\n",
        "    scores = cross_val_score(model, X, Y, scoring='accuracy', cv=cv_method, n_jobs=-1)\n",
        "    # returning the mean, minimum and maximum scores\n",
        "    return round(mean(scores), 4), round(scores.min(), 4), round(scores.max(), 4)\n",
        "\n",
        "# calculating the ideal test condition\n",
        "ideal_score, _, _ = evaluate_model_performance(LeaveOneOut())\n",
        "print(\"Ideal score: \", ideal_score)\n",
        "\n",
        "# defining the number of folds to test\n",
        "folds = range(2, 21)\n",
        "\n",
        "# record mean and min/max of each set of results\n",
        "means, mins, maxs = list(),list(),list()\n",
        "\n",
        "# calculation accuracy for each k value in the defined range\n",
        "for k in folds:\n",
        "    # defining the test condition\n",
        "    cv_method = KFold(n_splits=k, shuffle=True, random_state=10)\n",
        "    # evaluating the k value\n",
        "    mean_k, min_k, max_k = evaluate_model_performance(cv_method)\n",
        "    # printing the performance of each k value\n",
        "    print(f\"Folds={k}, accuracy={mean_k} ({min_k},{max_k})\")\n",
        "    # store mean accuracy\n",
        "    means.append(mean_k)\n",
        "    # store min and max relative to the mean\n",
        "    mins.append(mean_k - min_k)\n",
        "    maxs.append(max_k - mean_k)\n",
        "\n",
        "# line plot of k mean values with min/max error bars\n",
        "pyplot.errorbar(folds, means, yerr=[mins, maxs], fmt='o')\n",
        "# plot the ideal case in a separate color\n",
        "pyplot.plot(folds, [ideal_score for _ in range(len(folds))], color='r')\n",
        "# show the plot\n",
        "pyplot.show()"
      ]
    },
    {
      "cell_type": "markdown",
      "metadata": {
        "id": "shQU7XVUEEDL"
      },
      "source": [
        "##Model5 using svm with k fold"
      ]
    },
    {
      "cell_type": "code",
      "execution_count": 46,
      "metadata": {
        "colab": {
          "base_uri": "https://localhost:8080/"
        },
        "id": "lm5OlQKfEJLn",
        "outputId": "52fa316c-c971-4657-a702-07994cea6563"
      },
      "outputs": [
        {
          "output_type": "stream",
          "name": "stdout",
          "text": [
            "Accuracy score of each fold:  [0.43636364 0.92727273 0.65454545 0.76363636 0.54545455 0.92727273\n",
            " 0.94545455 0.92727273 0.67272727 0.8       ]\n",
            "Mean accuracy score:  0.76\n"
          ]
        }
      ],
      "source": [
        "from sklearn.metrics import accuracy_score, classification_report\n",
        "from sklearn.svm import SVC\n",
        "\n",
        "# implementing k-fold cross validation\n",
        "k = 10\n",
        "k_fold = KFold(n_splits = k)\n",
        "\n",
        "classifier = SVC(C = 1, gamma = \"scale\")\n",
        "\n",
        "classifier.fit(X, Y)\n",
        "\n",
        "# finding accuracy scores using cross_val_score methods\n",
        "scores = cross_val_score(classifier, X, Y, cv = k_fold)\n",
        "\n",
        "# calculating mean accuracy score\n",
        "mean_acc_score = sum(scores) / len(scores)\n",
        "\n",
        "print(\"Accuracy score of each fold: \", scores)\n",
        "print(\"Mean accuracy score: \", mean_acc_score)\n"
      ]
    },
    {
      "cell_type": "code",
      "execution_count": 47,
      "metadata": {
        "colab": {
          "base_uri": "https://localhost:8080/",
          "height": 777
        },
        "id": "tTSFUs3qLti_",
        "outputId": "8552ce0b-bdc7-451a-fcba-656f1bc12f04"
      },
      "outputs": [
        {
          "output_type": "stream",
          "name": "stdout",
          "text": [
            "Ideal score:  0.7582\n",
            "Folds=2, accuracy=0.7545 (0.7491,0.76)\n",
            "Folds=3, accuracy=0.7599 (0.7104,0.7989)\n",
            "Folds=4, accuracy=0.7618 (0.7174,0.8116)\n",
            "Folds=5, accuracy=0.7582 (0.7182,0.8182)\n",
            "Folds=6, accuracy=0.7582 (0.6957,0.8152)\n",
            "Folds=7, accuracy=0.7582 (0.7089,0.7975)\n",
            "Folds=8, accuracy=0.7546 (0.7101,0.8261)\n",
            "Folds=9, accuracy=0.7581 (0.6885,0.8065)\n",
            "Folds=10, accuracy=0.7582 (0.6545,0.8545)\n",
            "Folds=11, accuracy=0.7582 (0.68,0.86)\n",
            "Folds=12, accuracy=0.7583 (0.6304,0.8261)\n",
            "Folds=13, accuracy=0.7579 (0.5952,0.814)\n",
            "Folds=14, accuracy=0.7579 (0.6667,0.85)\n",
            "Folds=15, accuracy=0.7583 (0.6486,0.8919)\n",
            "Folds=16, accuracy=0.758 (0.6571,0.8571)\n",
            "Folds=17, accuracy=0.7579 (0.5938,0.9394)\n",
            "Folds=18, accuracy=0.7582 (0.5806,0.8387)\n",
            "Folds=19, accuracy=0.7582 (0.6207,0.8621)\n",
            "Folds=20, accuracy=0.7581 (0.6071,0.8889)\n"
          ]
        },
        {
          "output_type": "display_data",
          "data": {
            "text/plain": [
              "<Figure size 640x480 with 1 Axes>"
            ],
            "image/png": "[encoded data removed]"
          },
          "metadata": {}
        }
      ],
      "source": [
        "# perform kfold cross-validation sensitivity analysis\n",
        "\n",
        "from numpy import mean\n",
        "from sklearn.datasets import make_classification\n",
        "from sklearn.model_selection import LeaveOneOut, KFold, cross_val_score\n",
        "from sklearn.svm import SVC\n",
        "from matplotlib import pyplot\n",
        "\n",
        "  # getting the model object to be used for evaluation\n",
        "def get_model():\n",
        "    model = SVC(C = 1, gamma = \"scale\")\n",
        "    return model\n",
        "\n",
        "# evaluating the model performance using a test condition\n",
        "def evaluate_model_performance(cv_method):\n",
        "\n",
        "    # getting the model\n",
        "    model = get_model()\n",
        "    # evaluating the model\n",
        "    scores = cross_val_score(model, X, Y, scoring='accuracy', cv=cv_method, n_jobs=-1)\n",
        "    # returning the mean, minimum and maximum scores\n",
        "    return round(mean(scores), 4), round(scores.min(), 4), round(scores.max(), 4)\n",
        "\n",
        "# calculating the ideal test condition\n",
        "ideal_score, _, _ = evaluate_model_performance(LeaveOneOut())\n",
        "print(\"Ideal score: \", ideal_score)\n",
        "\n",
        "# defining the number of folds to test\n",
        "folds = range(2, 21)\n",
        "\n",
        "# record mean and min/max of each set of results\n",
        "means, mins, maxs = list(),list(),list()\n",
        "\n",
        "# calculation accuracy for each k value in the defined range\n",
        "for k in folds:\n",
        "    # defining the test condition\n",
        "    cv_method = KFold(n_splits=k, shuffle=True, random_state=10)\n",
        "    # evaluating the k value\n",
        "    mean_k, min_k, max_k = evaluate_model_performance(cv_method)\n",
        "    # printing the performance of each k value\n",
        "    print(f\"Folds={k}, accuracy={mean_k} ({min_k},{max_k})\")\n",
        "    # store mean accuracy\n",
        "    means.append(mean_k)\n",
        "    # store min and max relative to the mean\n",
        "    mins.append(mean_k - min_k)\n",
        "    maxs.append(max_k - mean_k)\n",
        "\n",
        "# line plot of k mean values with min/max error bars\n",
        "pyplot.errorbar(folds, means, yerr=[mins, maxs], fmt='o')\n",
        "# plot the ideal case in a separate color\n",
        "pyplot.plot(folds, [ideal_score for _ in range(len(folds))], color='r')\n",
        "# show the plot\n",
        "pyplot.show()"
      ]
    },
    {
      "cell_type": "markdown",
      "metadata": {
        "id": "q6CuNI2AErwE"
      },
      "source": [
        "##Model6 using GaussianNB with k fold"
      ]
    },
    {
      "cell_type": "code",
      "execution_count": 48,
      "metadata": {
        "colab": {
          "base_uri": "https://localhost:8080/"
        },
        "id": "Y_c1gqmUEzZF",
        "outputId": "52388651-e9b1-4b13-cc04-eb2123524bd9"
      },
      "outputs": [
        {
          "output_type": "stream",
          "name": "stdout",
          "text": [
            "Accuracy score of each fold:  [0.23636364 0.41818182 0.25454545 0.2        0.38181818 0.25454545\n",
            " 0.65454545 0.63636364 0.29090909 0.12727273]\n",
            "Mean accuracy score:  0.3454545454545455\n"
          ]
        }
      ],
      "source": [
        "from sklearn.metrics import accuracy_score, classification_report\n",
        "from sklearn.naive_bayes import GaussianNB\n",
        "\n",
        "# implementing k-fold cross validation\n",
        "k = 10\n",
        "k_fold = KFold(n_splits = k)\n",
        "\n",
        "classifier = GaussianNB()\n",
        "\n",
        "classifier.fit(X, Y)\n",
        "\n",
        "# finding accuracy scores using cross_val_score methods\n",
        "scores = cross_val_score(classifier, X, Y, cv = k_fold)\n",
        "\n",
        "# calculating mean accuracy score\n",
        "mean_acc_score = sum(scores) / len(scores)\n",
        "\n",
        "print(\"Accuracy score of each fold: \", scores)\n",
        "print(\"Mean accuracy score: \", mean_acc_score)"
      ]
    },
    {
      "cell_type": "code",
      "execution_count": 49,
      "metadata": {
        "colab": {
          "base_uri": "https://localhost:8080/",
          "height": 777
        },
        "id": "QJs2eSEwL8nt",
        "outputId": "922f7af8-65ae-4a7a-e197-5be4f89e56e7"
      },
      "outputs": [
        {
          "output_type": "stream",
          "name": "stdout",
          "text": [
            "Ideal score:  0.2945\n",
            "Folds=2, accuracy=0.3291 (0.3018,0.3564)\n",
            "Folds=3, accuracy=0.4475 (0.3115,0.6995)\n",
            "Folds=4, accuracy=0.3127 (0.2555,0.3551)\n",
            "Folds=5, accuracy=0.3673 (0.2455,0.6091)\n",
            "Folds=6, accuracy=0.3163 (0.2308,0.3587)\n",
            "Folds=7, accuracy=0.3363 (0.2532,0.443)\n",
            "Folds=8, accuracy=0.3126 (0.25,0.3623)\n",
            "Folds=9, accuracy=0.3345 (0.2459,0.459)\n",
            "Folds=10, accuracy=0.32 (0.2364,0.4)\n",
            "Folds=11, accuracy=0.3273 (0.22,0.46)\n",
            "Folds=12, accuracy=0.3143 (0.2,0.413)\n",
            "Folds=13, accuracy=0.3074 (0.186,0.4524)\n",
            "Folds=14, accuracy=0.3147 (0.2051,0.4872)\n",
            "Folds=15, accuracy=0.2946 (0.1892,0.4167)\n",
            "Folds=16, accuracy=0.3093 (0.2,0.4412)\n",
            "Folds=17, accuracy=0.311 (0.1562,0.5)\n",
            "Folds=18, accuracy=0.3127 (0.1,0.5)\n",
            "Folds=19, accuracy=0.3124 (0.1429,0.4828)\n",
            "Folds=20, accuracy=0.3127 (0.1481,0.4815)\n"
          ]
        },
        {
          "output_type": "display_data",
          "data": {
            "text/plain": [
              "<Figure size 640x480 with 1 Axes>"
            ],
            "image/png": "[encoded data removed]"
          },
          "metadata": {}
        }
      ],
      "source": [
        "# perform kfold cross-validation sensitivity analysis\n",
        "\n",
        "from numpy import mean\n",
        "from sklearn.datasets import make_classification\n",
        "from sklearn.model_selection import LeaveOneOut, KFold, cross_val_score\n",
        "from sklearn.naive_bayes import GaussianNB\n",
        "from matplotlib import pyplot\n",
        "\n",
        "  # getting the model object to be used for evaluation\n",
        "def get_model():\n",
        "    model = GaussianNB()\n",
        "    return model\n",
        "\n",
        "# evaluating the model performance using a test condition\n",
        "def evaluate_model_performance(cv_method):\n",
        "\n",
        "    # getting the model\n",
        "    model = get_model()\n",
        "    # evaluating the model\n",
        "    scores = cross_val_score(model, X, Y, scoring='accuracy', cv=cv_method, n_jobs=-1)\n",
        "    # returning the mean, minimum and maximum scores\n",
        "    return round(mean(scores), 4), round(scores.min(), 4), round(scores.max(), 4)\n",
        "\n",
        "# calculating the ideal test condition\n",
        "ideal_score, _, _ = evaluate_model_performance(LeaveOneOut())\n",
        "print(\"Ideal score: \", ideal_score)\n",
        "\n",
        "# defining the number of folds to test\n",
        "folds = range(2, 21)\n",
        "\n",
        "# record mean and min/max of each set of results\n",
        "means, mins, maxs = list(),list(),list()\n",
        "\n",
        "# calculation accuracy for each k value in the defined range\n",
        "for k in folds:\n",
        "    # defining the test condition\n",
        "    cv_method = KFold(n_splits=k, shuffle=True, random_state=10)\n",
        "    # evaluating the k value\n",
        "    mean_k, min_k, max_k = evaluate_model_performance(cv_method)\n",
        "    # printing the performance of each k value\n",
        "    print(f\"Folds={k}, accuracy={mean_k} ({min_k},{max_k})\")\n",
        "    # store mean accuracy\n",
        "    means.append(mean_k)\n",
        "    # store min and max relative to the mean\n",
        "    mins.append(mean_k - min_k)\n",
        "    maxs.append(max_k - mean_k)\n",
        "\n",
        "# line plot of k mean values with min/max error bars\n",
        "pyplot.errorbar(folds, means, yerr=[mins, maxs], fmt='o')\n",
        "# plot the ideal case in a separate color\n",
        "pyplot.plot(folds, [ideal_score for _ in range(len(folds))], color='r')\n",
        "# show the plot\n",
        "pyplot.show()"
      ]
    },
    {
      "cell_type": "markdown",
      "metadata": {
        "id": "ip0-tMSnFMu7"
      },
      "source": [
        "##Model7 using LogisticRegression k fold"
      ]
    },
    {
      "cell_type": "code",
      "execution_count": 50,
      "metadata": {
        "colab": {
          "base_uri": "https://localhost:8080/"
        },
        "id": "iqhwf1IdFTof",
        "outputId": "121c68bf-8905-44ce-af79-c323151593d3"
      },
      "outputs": [
        {
          "output_type": "stream",
          "name": "stdout",
          "text": [
            "Accuracy score of each fold:  [0.41818182 0.92727273 0.65454545 0.76363636 0.54545455 0.89090909\n",
            " 0.94545455 0.89090909 0.54545455 0.8       ]\n",
            "Mean accuracy score:  0.7381818181818182\n"
          ]
        }
      ],
      "source": [
        "from sklearn.metrics import accuracy_score, classification_report\n",
        "from sklearn.linear_model import LogisticRegression\n",
        "\n",
        "# implementing k-fold cross validation\n",
        "k = 10\n",
        "k_fold = KFold(n_splits = k)\n",
        "\n",
        "classifier = LogisticRegression(C = 1, solver = \"newton-cg\")\n",
        "\n",
        "classifier.fit(X, Y)\n",
        "\n",
        "# finding accuracy scores using cross_val_score methods\n",
        "scores = cross_val_score(classifier, X, Y, cv = k_fold)\n",
        "\n",
        "# calculating mean accuracy score\n",
        "mean_acc_score = sum(scores) / len(scores)\n",
        "\n",
        "print(\"Accuracy score of each fold: \", scores)\n",
        "print(\"Mean accuracy score: \", mean_acc_score)"
      ]
    },
    {
      "cell_type": "code",
      "execution_count": 51,
      "metadata": {
        "colab": {
          "base_uri": "https://localhost:8080/",
          "height": 777
        },
        "id": "89n_bp8bMMZu",
        "outputId": "0bca4a6f-bc83-4d22-e81a-76b68536c978"
      },
      "outputs": [
        {
          "output_type": "stream",
          "name": "stdout",
          "text": [
            "Ideal score:  0.7418\n",
            "Folds=2, accuracy=0.7364 (0.7309,0.7418)\n",
            "Folds=3, accuracy=0.7436 (0.7158,0.7609)\n",
            "Folds=4, accuracy=0.7436 (0.7101,0.7826)\n",
            "Folds=5, accuracy=0.74 (0.7091,0.7818)\n",
            "Folds=6, accuracy=0.7382 (0.6957,0.7826)\n",
            "Folds=7, accuracy=0.7436 (0.6923,0.7949)\n",
            "Folds=8, accuracy=0.7365 (0.6957,0.7794)\n",
            "Folds=9, accuracy=0.7417 (0.6885,0.8065)\n",
            "Folds=10, accuracy=0.7455 (0.6727,0.8182)\n",
            "Folds=11, accuracy=0.7455 (0.68,0.82)\n",
            "Folds=12, accuracy=0.7383 (0.6522,0.8222)\n",
            "Folds=13, accuracy=0.7416 (0.619,0.8095)\n",
            "Folds=14, accuracy=0.738 (0.6667,0.8462)\n",
            "Folds=15, accuracy=0.7438 (0.6757,0.8333)\n",
            "Folds=16, accuracy=0.7381 (0.6765,0.8235)\n",
            "Folds=17, accuracy=0.738 (0.625,0.8485)\n",
            "Folds=18, accuracy=0.7418 (0.6129,0.8333)\n",
            "Folds=19, accuracy=0.7457 (0.6552,0.8571)\n",
            "Folds=20, accuracy=0.74 (0.6429,0.8519)\n"
          ]
        },
        {
          "output_type": "display_data",
          "data": {
            "text/plain": [
              "<Figure size 640x480 with 1 Axes>"
            ],
            "image/png": "[encoded data removed]"
          },
          "metadata": {}
        }
      ],
      "source": [
        "# perform kfold cross-validation sensitivity analysis\n",
        "\n",
        "from numpy import mean\n",
        "from sklearn.datasets import make_classification\n",
        "from sklearn.model_selection import LeaveOneOut, KFold, cross_val_score\n",
        "from sklearn.linear_model import LogisticRegression\n",
        "from matplotlib import pyplot\n",
        "\n",
        "  # getting the model object to be used for evaluation\n",
        "def get_model():\n",
        "    model = LogisticRegression(C = 1, solver = \"newton-cg\")\n",
        "    return model\n",
        "\n",
        "# evaluating the model performance using a test condition\n",
        "def evaluate_model_performance(cv_method):\n",
        "\n",
        "    # getting the model\n",
        "    model = get_model()\n",
        "    # evaluating the model\n",
        "    scores = cross_val_score(model, X, Y, scoring='accuracy', cv=cv_method, n_jobs=-1)\n",
        "    # returning the mean, minimum and maximum scores\n",
        "    return round(mean(scores), 4), round(scores.min(), 4), round(scores.max(), 4)\n",
        "\n",
        "# calculating the ideal test condition\n",
        "ideal_score, _, _ = evaluate_model_performance(LeaveOneOut())\n",
        "print(\"Ideal score: \", ideal_score)\n",
        "\n",
        "# defining the number of folds to test\n",
        "folds = range(2, 21)\n",
        "\n",
        "# record mean and min/max of each set of results\n",
        "means, mins, maxs = list(),list(),list()\n",
        "\n",
        "# calculation accuracy for each k value in the defined range\n",
        "for k in folds:\n",
        "    # defining the test condition\n",
        "    cv_method = KFold(n_splits=k, shuffle=True, random_state=10)\n",
        "    # evaluating the k value\n",
        "    mean_k, min_k, max_k = evaluate_model_performance(cv_method)\n",
        "    # printing the performance of each k value\n",
        "    print(f\"Folds={k}, accuracy={mean_k} ({min_k},{max_k})\")\n",
        "    # store mean accuracy\n",
        "    means.append(mean_k)\n",
        "    # store min and max relative to the mean\n",
        "    mins.append(mean_k - min_k)\n",
        "    maxs.append(max_k - mean_k)\n",
        "\n",
        "# line plot of k mean values with min/max error bars\n",
        "pyplot.errorbar(folds, means, yerr=[mins, maxs], fmt='o')\n",
        "# plot the ideal case in a separate color\n",
        "pyplot.plot(folds, [ideal_score for _ in range(len(folds))], color='r')\n",
        "# show the plot\n",
        "pyplot.show()"
      ]
    },
    {
      "cell_type": "markdown",
      "metadata": {
        "id": "hdZpH5Pwud-n"
      },
      "source": [
        "##Final Model according to k fold\n"
      ]
    },
    {
      "cell_type": "code",
      "execution_count": 52,
      "metadata": {
        "colab": {
          "base_uri": "https://localhost:8080/"
        },
        "id": "wxO6NUfsRkRZ",
        "outputId": "7e5d5726-c132-4414-fd0f-9481d38a6c21"
      },
      "outputs": [
        {
          "output_type": "stream",
          "name": "stdout",
          "text": [
            "Accuracy score of each fold:  [0.44 0.94 0.66 0.76 0.7  0.74 0.9  0.96 0.9  0.56 0.82]\n",
            "Mean accuracy score:  0.7618181818181818\n"
          ]
        }
      ],
      "source": [
        "from sklearn.metrics import accuracy_score, classification_report\n",
        "from sklearn.ensemble import RandomForestClassifier\n",
        "\n",
        "# implementing k-fold cross validation\n",
        "k = 11\n",
        "k_fold = KFold(n_splits = k)\n",
        "\n",
        "classifier = RandomForestClassifier(n_estimators = 100, max_depth = 29, max_features = 4, max_samples = 1.0)\n",
        "\n",
        "classifier.fit(X, Y)\n",
        "\n",
        "# finding accuracy scores using cross_val_score methods\n",
        "scores = cross_val_score(classifier, X, Y, cv = k_fold)\n",
        "\n",
        "# calculating mean accuracy score\n",
        "mean_acc_score = sum(scores) / len(scores)\n",
        "\n",
        "print(\"Accuracy score of each fold: \", scores)\n",
        "print(\"Mean accuracy score: \", mean_acc_score)\n"
      ]
    },
    {
      "cell_type": "code",
      "execution_count": null,
      "metadata": {
        "id": "382YFMk599uB"
      },
      "outputs": [],
      "source": []
    }
  ],
  "metadata": {
    "colab": {
      "provenance": [],
      "include_colab_link": true
    },
    "kernelspec": {
      "display_name": "Python 3",
      "name": "python3"
    },
    "language_info": {
      "name": "python"
    }
  },
  "nbformat": 4,
  "nbformat_minor": 0
}